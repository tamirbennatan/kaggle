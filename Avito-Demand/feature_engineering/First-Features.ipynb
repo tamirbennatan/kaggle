{
 "cells": [
  {
   "cell_type": "code",
   "execution_count": 59,
   "metadata": {},
   "outputs": [],
   "source": [
    "import pandas as pd\n",
    "import numpy as np \n",
    "import re\n",
    "from sklearn.feature_extraction.text import TfidfVectorizer\n",
    "from sklearn.preprocessing import LabelEncoder\n",
    "from keras.utils import to_categorical\n",
    "import matplotlib.pyplot as plt\n",
    "import pickle\n",
    "%matplotlib inline"
   ]
  },
  {
   "cell_type": "markdown",
   "metadata": {},
   "source": [
    "# Basic feature engineering\n",
    "\n",
    "Here, I extract some basic features for the data. I plan on using ensembe tree methods, which justifies some of my missing data imputation choices. "
   ]
  },
  {
   "cell_type": "markdown",
   "metadata": {},
   "source": [
    "## 0. Load data\n",
    "\n",
    "This data was lighly processed in the Rmarkdown notebook `Basic-Features.Rmd`. "
   ]
  },
  {
   "cell_type": "code",
   "execution_count": 2,
   "metadata": {},
   "outputs": [],
   "source": [
    "train = pd.read_csv(\"../data/basic_features/train.csv\")"
   ]
  },
  {
   "cell_type": "code",
   "execution_count": 3,
   "metadata": {},
   "outputs": [],
   "source": [
    "test = pd.read_csv(\"../data/basic_features/test.csv\")"
   ]
  },
  {
   "cell_type": "code",
   "execution_count": 8,
   "metadata": {},
   "outputs": [
    {
     "data": {
      "text/html": [
       "<div>\n",
       "<style scoped>\n",
       "    .dataframe tbody tr th:only-of-type {\n",
       "        vertical-align: middle;\n",
       "    }\n",
       "\n",
       "    .dataframe tbody tr th {\n",
       "        vertical-align: top;\n",
       "    }\n",
       "\n",
       "    .dataframe thead th {\n",
       "        text-align: right;\n",
       "    }\n",
       "</style>\n",
       "<table border=\"1\" class=\"dataframe\">\n",
       "  <thead>\n",
       "    <tr style=\"text-align: right;\">\n",
       "      <th></th>\n",
       "      <th>item_id</th>\n",
       "      <th>user_id</th>\n",
       "      <th>region</th>\n",
       "      <th>city</th>\n",
       "      <th>parent_category_name</th>\n",
       "      <th>category_name</th>\n",
       "      <th>param_1</th>\n",
       "      <th>param_2</th>\n",
       "      <th>param_3</th>\n",
       "      <th>title</th>\n",
       "      <th>...</th>\n",
       "      <th>description_character_count_log</th>\n",
       "      <th>description_missing</th>\n",
       "      <th>price_mising</th>\n",
       "      <th>image_missing</th>\n",
       "      <th>param_1_missing</th>\n",
       "      <th>param_2_missing</th>\n",
       "      <th>param_3_missing</th>\n",
       "      <th>param_1_freq</th>\n",
       "      <th>param_2_freq</th>\n",
       "      <th>param_3_freq</th>\n",
       "    </tr>\n",
       "  </thead>\n",
       "  <tbody>\n",
       "    <tr>\n",
       "      <th>0</th>\n",
       "      <td>b912c3c6a6ad</td>\n",
       "      <td>e00f8ff2eaf9</td>\n",
       "      <td>Свердловская область</td>\n",
       "      <td>Екатеринбург</td>\n",
       "      <td>Личные вещи</td>\n",
       "      <td>Товары для детей и игрушки</td>\n",
       "      <td>Постельные принадлежности</td>\n",
       "      <td>NaN</td>\n",
       "      <td>NaN</td>\n",
       "      <td>Кокоби(кокон для сна)</td>\n",
       "      <td>...</td>\n",
       "      <td>4.077537</td>\n",
       "      <td>False</td>\n",
       "      <td>False</td>\n",
       "      <td>False</td>\n",
       "      <td>False</td>\n",
       "      <td>True</td>\n",
       "      <td>True</td>\n",
       "      <td>0.004292</td>\n",
       "      <td>0.441268</td>\n",
       "      <td>0.581002</td>\n",
       "    </tr>\n",
       "    <tr>\n",
       "      <th>1</th>\n",
       "      <td>2dac0150717d</td>\n",
       "      <td>39aeb48f0017</td>\n",
       "      <td>Самарская область</td>\n",
       "      <td>Самара</td>\n",
       "      <td>Для дома и дачи</td>\n",
       "      <td>Мебель и интерьер</td>\n",
       "      <td>Другое</td>\n",
       "      <td>NaN</td>\n",
       "      <td>NaN</td>\n",
       "      <td>Стойка для Одежды</td>\n",
       "      <td>...</td>\n",
       "      <td>3.737670</td>\n",
       "      <td>False</td>\n",
       "      <td>False</td>\n",
       "      <td>False</td>\n",
       "      <td>False</td>\n",
       "      <td>True</td>\n",
       "      <td>True</td>\n",
       "      <td>0.018966</td>\n",
       "      <td>0.441268</td>\n",
       "      <td>0.581002</td>\n",
       "    </tr>\n",
       "    <tr>\n",
       "      <th>2</th>\n",
       "      <td>ba83aefab5dc</td>\n",
       "      <td>91e2f88dd6e3</td>\n",
       "      <td>Ростовская область</td>\n",
       "      <td>Ростов-на-Дону</td>\n",
       "      <td>Бытовая электроника</td>\n",
       "      <td>Аудио и видео</td>\n",
       "      <td>Видео, DVD и Blu-ray плееры</td>\n",
       "      <td>NaN</td>\n",
       "      <td>NaN</td>\n",
       "      <td>Philips bluray</td>\n",
       "      <td>...</td>\n",
       "      <td>4.605170</td>\n",
       "      <td>False</td>\n",
       "      <td>False</td>\n",
       "      <td>False</td>\n",
       "      <td>False</td>\n",
       "      <td>True</td>\n",
       "      <td>True</td>\n",
       "      <td>0.001430</td>\n",
       "      <td>0.441268</td>\n",
       "      <td>0.581002</td>\n",
       "    </tr>\n",
       "    <tr>\n",
       "      <th>3</th>\n",
       "      <td>02996f1dd2ea</td>\n",
       "      <td>bf5cccea572d</td>\n",
       "      <td>Татарстан</td>\n",
       "      <td>Набережные Челны</td>\n",
       "      <td>Личные вещи</td>\n",
       "      <td>Товары для детей и игрушки</td>\n",
       "      <td>Автомобильные кресла</td>\n",
       "      <td>NaN</td>\n",
       "      <td>NaN</td>\n",
       "      <td>Автокресло</td>\n",
       "      <td>...</td>\n",
       "      <td>3.135494</td>\n",
       "      <td>False</td>\n",
       "      <td>False</td>\n",
       "      <td>False</td>\n",
       "      <td>False</td>\n",
       "      <td>True</td>\n",
       "      <td>True</td>\n",
       "      <td>0.003416</td>\n",
       "      <td>0.441268</td>\n",
       "      <td>0.581002</td>\n",
       "    </tr>\n",
       "    <tr>\n",
       "      <th>4</th>\n",
       "      <td>7c90be56d2ab</td>\n",
       "      <td>ef50846afc0b</td>\n",
       "      <td>Волгоградская область</td>\n",
       "      <td>Волгоград</td>\n",
       "      <td>Транспорт</td>\n",
       "      <td>Автомобили</td>\n",
       "      <td>С пробегом</td>\n",
       "      <td>ВАЗ (LADA)</td>\n",
       "      <td>2110</td>\n",
       "      <td>ВАЗ 2110, 2003</td>\n",
       "      <td>...</td>\n",
       "      <td>3.218876</td>\n",
       "      <td>False</td>\n",
       "      <td>False</td>\n",
       "      <td>False</td>\n",
       "      <td>False</td>\n",
       "      <td>False</td>\n",
       "      <td>False</td>\n",
       "      <td>0.041317</td>\n",
       "      <td>0.013153</td>\n",
       "      <td>0.001273</td>\n",
       "    </tr>\n",
       "  </tbody>\n",
       "</table>\n",
       "<p>5 rows × 37 columns</p>\n",
       "</div>"
      ],
      "text/plain": [
       "        item_id       user_id                 region              city  \\\n",
       "0  b912c3c6a6ad  e00f8ff2eaf9   Свердловская область      Екатеринбург   \n",
       "1  2dac0150717d  39aeb48f0017      Самарская область            Самара   \n",
       "2  ba83aefab5dc  91e2f88dd6e3     Ростовская область    Ростов-на-Дону   \n",
       "3  02996f1dd2ea  bf5cccea572d              Татарстан  Набережные Челны   \n",
       "4  7c90be56d2ab  ef50846afc0b  Волгоградская область         Волгоград   \n",
       "\n",
       "  parent_category_name               category_name  \\\n",
       "0          Личные вещи  Товары для детей и игрушки   \n",
       "1      Для дома и дачи           Мебель и интерьер   \n",
       "2  Бытовая электроника               Аудио и видео   \n",
       "3          Личные вещи  Товары для детей и игрушки   \n",
       "4            Транспорт                  Автомобили   \n",
       "\n",
       "                       param_1     param_2 param_3                  title  \\\n",
       "0    Постельные принадлежности         NaN     NaN  Кокоби(кокон для сна)   \n",
       "1                       Другое         NaN     NaN      Стойка для Одежды   \n",
       "2  Видео, DVD и Blu-ray плееры         NaN     NaN         Philips bluray   \n",
       "3         Автомобильные кресла         NaN     NaN             Автокресло   \n",
       "4                   С пробегом  ВАЗ (LADA)    2110         ВАЗ 2110, 2003   \n",
       "\n",
       "       ...      description_character_count_log  description_missing  \\\n",
       "0      ...                             4.077537                False   \n",
       "1      ...                             3.737670                False   \n",
       "2      ...                             4.605170                False   \n",
       "3      ...                             3.135494                False   \n",
       "4      ...                             3.218876                False   \n",
       "\n",
       "   price_mising image_missing param_1_missing param_2_missing  \\\n",
       "0         False         False           False            True   \n",
       "1         False         False           False            True   \n",
       "2         False         False           False            True   \n",
       "3         False         False           False            True   \n",
       "4         False         False           False           False   \n",
       "\n",
       "   param_3_missing  param_1_freq  param_2_freq  param_3_freq  \n",
       "0             True      0.004292      0.441268      0.581002  \n",
       "1             True      0.018966      0.441268      0.581002  \n",
       "2             True      0.001430      0.441268      0.581002  \n",
       "3             True      0.003416      0.441268      0.581002  \n",
       "4            False      0.041317      0.013153      0.001273  \n",
       "\n",
       "[5 rows x 37 columns]"
      ]
     },
     "execution_count": 8,
     "metadata": {},
     "output_type": "execute_result"
    }
   ],
   "source": [
    "train.head()"
   ]
  },
  {
   "cell_type": "code",
   "execution_count": 9,
   "metadata": {},
   "outputs": [
    {
     "data": {
      "text/html": [
       "<div>\n",
       "<style scoped>\n",
       "    .dataframe tbody tr th:only-of-type {\n",
       "        vertical-align: middle;\n",
       "    }\n",
       "\n",
       "    .dataframe tbody tr th {\n",
       "        vertical-align: top;\n",
       "    }\n",
       "\n",
       "    .dataframe thead th {\n",
       "        text-align: right;\n",
       "    }\n",
       "</style>\n",
       "<table border=\"1\" class=\"dataframe\">\n",
       "  <thead>\n",
       "    <tr style=\"text-align: right;\">\n",
       "      <th></th>\n",
       "      <th>item_id</th>\n",
       "      <th>user_id</th>\n",
       "      <th>region</th>\n",
       "      <th>city</th>\n",
       "      <th>parent_category_name</th>\n",
       "      <th>category_name</th>\n",
       "      <th>param_1</th>\n",
       "      <th>param_2</th>\n",
       "      <th>param_3</th>\n",
       "      <th>title</th>\n",
       "      <th>...</th>\n",
       "      <th>description_character_count_log</th>\n",
       "      <th>description_missing</th>\n",
       "      <th>price_mising</th>\n",
       "      <th>image_missing</th>\n",
       "      <th>param_1_missing</th>\n",
       "      <th>param_2_missing</th>\n",
       "      <th>param_3_missing</th>\n",
       "      <th>param_1_freq</th>\n",
       "      <th>param_2_freq</th>\n",
       "      <th>param_3_freq</th>\n",
       "    </tr>\n",
       "  </thead>\n",
       "  <tbody>\n",
       "    <tr>\n",
       "      <th>0</th>\n",
       "      <td>6544e41a8817</td>\n",
       "      <td>dbe73ad6e4b5</td>\n",
       "      <td>Волгоградская область</td>\n",
       "      <td>Волгоград</td>\n",
       "      <td>Личные вещи</td>\n",
       "      <td>Детская одежда и обувь</td>\n",
       "      <td>Для мальчиков</td>\n",
       "      <td>Обувь</td>\n",
       "      <td>25</td>\n",
       "      <td>Отдам бесплатно</td>\n",
       "      <td>...</td>\n",
       "      <td>2.564949</td>\n",
       "      <td>False</td>\n",
       "      <td>True</td>\n",
       "      <td>False</td>\n",
       "      <td>False</td>\n",
       "      <td>False</td>\n",
       "      <td>False</td>\n",
       "      <td>0.075915</td>\n",
       "      <td>0.099026</td>\n",
       "      <td>0.004463</td>\n",
       "    </tr>\n",
       "    <tr>\n",
       "      <th>1</th>\n",
       "      <td>65b9484d670f</td>\n",
       "      <td>2e11806abe57</td>\n",
       "      <td>Свердловская область</td>\n",
       "      <td>Нижняя Тура</td>\n",
       "      <td>Хобби и отдых</td>\n",
       "      <td>Велосипеды</td>\n",
       "      <td>Дорожные</td>\n",
       "      <td>NaN</td>\n",
       "      <td>NaN</td>\n",
       "      <td>Продам велосипед</td>\n",
       "      <td>...</td>\n",
       "      <td>4.488636</td>\n",
       "      <td>False</td>\n",
       "      <td>False</td>\n",
       "      <td>True</td>\n",
       "      <td>False</td>\n",
       "      <td>True</td>\n",
       "      <td>True</td>\n",
       "      <td>0.001253</td>\n",
       "      <td>0.441268</td>\n",
       "      <td>0.581002</td>\n",
       "    </tr>\n",
       "    <tr>\n",
       "      <th>2</th>\n",
       "      <td>8bab230b2ecd</td>\n",
       "      <td>0b850bbebb10</td>\n",
       "      <td>Новосибирская область</td>\n",
       "      <td>Бердск</td>\n",
       "      <td>Бытовая электроника</td>\n",
       "      <td>Аудио и видео</td>\n",
       "      <td>Телевизоры и проекторы</td>\n",
       "      <td>NaN</td>\n",
       "      <td>NaN</td>\n",
       "      <td>BBK</td>\n",
       "      <td>...</td>\n",
       "      <td>4.890349</td>\n",
       "      <td>False</td>\n",
       "      <td>False</td>\n",
       "      <td>False</td>\n",
       "      <td>False</td>\n",
       "      <td>True</td>\n",
       "      <td>True</td>\n",
       "      <td>0.005112</td>\n",
       "      <td>0.441268</td>\n",
       "      <td>0.581002</td>\n",
       "    </tr>\n",
       "    <tr>\n",
       "      <th>3</th>\n",
       "      <td>8e348601fefc</td>\n",
       "      <td>5f1d5c3ce0da</td>\n",
       "      <td>Саратовская область</td>\n",
       "      <td>Саратов</td>\n",
       "      <td>Для дома и дачи</td>\n",
       "      <td>Бытовая техника</td>\n",
       "      <td>Для кухни</td>\n",
       "      <td>Вытяжки</td>\n",
       "      <td>NaN</td>\n",
       "      <td>Вытяжка Jetair 60</td>\n",
       "      <td>...</td>\n",
       "      <td>4.543295</td>\n",
       "      <td>False</td>\n",
       "      <td>False</td>\n",
       "      <td>True</td>\n",
       "      <td>False</td>\n",
       "      <td>False</td>\n",
       "      <td>True</td>\n",
       "      <td>0.010668</td>\n",
       "      <td>0.000281</td>\n",
       "      <td>0.581002</td>\n",
       "    </tr>\n",
       "    <tr>\n",
       "      <th>4</th>\n",
       "      <td>8bd2fe400b89</td>\n",
       "      <td>23e2d97bfc7f</td>\n",
       "      <td>Оренбургская область</td>\n",
       "      <td>Бузулук</td>\n",
       "      <td>Личные вещи</td>\n",
       "      <td>Товары для детей и игрушки</td>\n",
       "      <td>Детские коляски</td>\n",
       "      <td>NaN</td>\n",
       "      <td>NaN</td>\n",
       "      <td>Коляска зима-лето</td>\n",
       "      <td>...</td>\n",
       "      <td>4.110874</td>\n",
       "      <td>False</td>\n",
       "      <td>False</td>\n",
       "      <td>False</td>\n",
       "      <td>False</td>\n",
       "      <td>True</td>\n",
       "      <td>True</td>\n",
       "      <td>0.017852</td>\n",
       "      <td>0.441268</td>\n",
       "      <td>0.581002</td>\n",
       "    </tr>\n",
       "  </tbody>\n",
       "</table>\n",
       "<p>5 rows × 36 columns</p>\n",
       "</div>"
      ],
      "text/plain": [
       "        item_id       user_id                 region         city  \\\n",
       "0  6544e41a8817  dbe73ad6e4b5  Волгоградская область    Волгоград   \n",
       "1  65b9484d670f  2e11806abe57   Свердловская область  Нижняя Тура   \n",
       "2  8bab230b2ecd  0b850bbebb10  Новосибирская область       Бердск   \n",
       "3  8e348601fefc  5f1d5c3ce0da    Саратовская область      Саратов   \n",
       "4  8bd2fe400b89  23e2d97bfc7f   Оренбургская область      Бузулук   \n",
       "\n",
       "  parent_category_name               category_name                 param_1  \\\n",
       "0          Личные вещи      Детская одежда и обувь           Для мальчиков   \n",
       "1        Хобби и отдых                  Велосипеды                Дорожные   \n",
       "2  Бытовая электроника               Аудио и видео  Телевизоры и проекторы   \n",
       "3      Для дома и дачи             Бытовая техника               Для кухни   \n",
       "4          Личные вещи  Товары для детей и игрушки         Детские коляски   \n",
       "\n",
       "   param_2 param_3              title      ...       \\\n",
       "0    Обувь      25    Отдам бесплатно      ...        \n",
       "1      NaN     NaN   Продам велосипед      ...        \n",
       "2      NaN     NaN                BBK      ...        \n",
       "3  Вытяжки     NaN  Вытяжка Jetair 60      ...        \n",
       "4      NaN     NaN  Коляска зима-лето      ...        \n",
       "\n",
       "  description_character_count_log  description_missing  price_mising  \\\n",
       "0                        2.564949                False          True   \n",
       "1                        4.488636                False         False   \n",
       "2                        4.890349                False         False   \n",
       "3                        4.543295                False         False   \n",
       "4                        4.110874                False         False   \n",
       "\n",
       "  image_missing param_1_missing param_2_missing  param_3_missing  \\\n",
       "0         False           False           False            False   \n",
       "1          True           False            True             True   \n",
       "2         False           False            True             True   \n",
       "3          True           False           False             True   \n",
       "4         False           False            True             True   \n",
       "\n",
       "   param_1_freq  param_2_freq  param_3_freq  \n",
       "0      0.075915      0.099026      0.004463  \n",
       "1      0.001253      0.441268      0.581002  \n",
       "2      0.005112      0.441268      0.581002  \n",
       "3      0.010668      0.000281      0.581002  \n",
       "4      0.017852      0.441268      0.581002  \n",
       "\n",
       "[5 rows x 36 columns]"
      ]
     },
     "execution_count": 9,
     "metadata": {},
     "output_type": "execute_result"
    }
   ],
   "source": [
    "test.head()"
   ]
  },
  {
   "cell_type": "markdown",
   "metadata": {},
   "source": [
    "## 1. Tf-Idf features\n",
    "\n",
    "Now, I'll experiment with the presence/lack of presence of words that appear in different frequencies in the training data in examples with different ranges of `deal_probability`."
   ]
  },
  {
   "cell_type": "markdown",
   "metadata": {},
   "source": [
    "First, categorize the probabilities in broad bins:"
   ]
  },
  {
   "cell_type": "code",
   "execution_count": 4,
   "metadata": {},
   "outputs": [],
   "source": [
    "def get_prob_group(prob):\n",
    "    if prob == 0:\n",
    "        return \"zero\"\n",
    "    elif prob < .27:\n",
    "        return \"low\"\n",
    "    elif prob < .7:\n",
    "        return \"mid\"\n",
    "    elif prob < 1:\n",
    "        return \"high\"\n",
    "    else:\n",
    "        return \"certain\""
   ]
  },
  {
   "cell_type": "code",
   "execution_count": 5,
   "metadata": {},
   "outputs": [],
   "source": [
    "# bin the probabilities\n",
    "train['prob_group'] = train.deal_probability.map(lambda x: get_prob_group(x))"
   ]
  },
  {
   "cell_type": "markdown",
   "metadata": {},
   "source": [
    "Now, group the words in the titles, grouped by the probability group and the parent category. First, though, remove words with numeric values, as these usually are of very low frequency. (which will lead to high \"idf\", but are unlikely to move onto the test set.)"
   ]
  },
  {
   "cell_type": "code",
   "execution_count": 6,
   "metadata": {},
   "outputs": [],
   "source": [
    "# first, remove words with numbers\n",
    "tmp = train\n",
    "tmp.title = tmp.title.apply(lambda x: re.sub(r'\\w*\\d\\w*', '', x).strip())"
   ]
  },
  {
   "cell_type": "code",
   "execution_count": 80,
   "metadata": {},
   "outputs": [
    {
     "data": {
      "text/html": [
       "<div>\n",
       "<style scoped>\n",
       "    .dataframe tbody tr th:only-of-type {\n",
       "        vertical-align: middle;\n",
       "    }\n",
       "\n",
       "    .dataframe tbody tr th {\n",
       "        vertical-align: top;\n",
       "    }\n",
       "\n",
       "    .dataframe thead th {\n",
       "        text-align: right;\n",
       "    }\n",
       "</style>\n",
       "<table border=\"1\" class=\"dataframe\">\n",
       "  <thead>\n",
       "    <tr style=\"text-align: right;\">\n",
       "      <th></th>\n",
       "      <th>item_id</th>\n",
       "      <th>user_id</th>\n",
       "      <th>region</th>\n",
       "      <th>city</th>\n",
       "      <th>parent_category_name</th>\n",
       "      <th>category_name</th>\n",
       "      <th>param_1</th>\n",
       "      <th>param_2</th>\n",
       "      <th>param_3</th>\n",
       "      <th>title</th>\n",
       "      <th>...</th>\n",
       "      <th>description_missing</th>\n",
       "      <th>price_mising</th>\n",
       "      <th>image_missing</th>\n",
       "      <th>param_1_missing</th>\n",
       "      <th>param_2_missing</th>\n",
       "      <th>param_3_missing</th>\n",
       "      <th>param_1_freq</th>\n",
       "      <th>param_2_freq</th>\n",
       "      <th>param_3_freq</th>\n",
       "      <th>prob_group</th>\n",
       "    </tr>\n",
       "  </thead>\n",
       "  <tbody>\n",
       "    <tr>\n",
       "      <th>0</th>\n",
       "      <td>b912c3c6a6ad</td>\n",
       "      <td>e00f8ff2eaf9</td>\n",
       "      <td>Свердловская область</td>\n",
       "      <td>Екатеринбург</td>\n",
       "      <td>Личные вещи</td>\n",
       "      <td>Товары для детей и игрушки</td>\n",
       "      <td>Постельные принадлежности</td>\n",
       "      <td>NaN</td>\n",
       "      <td>NaN</td>\n",
       "      <td>Кокоби(кокон для сна)</td>\n",
       "      <td>...</td>\n",
       "      <td>False</td>\n",
       "      <td>False</td>\n",
       "      <td>False</td>\n",
       "      <td>False</td>\n",
       "      <td>True</td>\n",
       "      <td>True</td>\n",
       "      <td>0.004292</td>\n",
       "      <td>0.441268</td>\n",
       "      <td>0.581002</td>\n",
       "      <td>low</td>\n",
       "    </tr>\n",
       "    <tr>\n",
       "      <th>1</th>\n",
       "      <td>2dac0150717d</td>\n",
       "      <td>39aeb48f0017</td>\n",
       "      <td>Самарская область</td>\n",
       "      <td>Самара</td>\n",
       "      <td>Для дома и дачи</td>\n",
       "      <td>Мебель и интерьер</td>\n",
       "      <td>Другое</td>\n",
       "      <td>NaN</td>\n",
       "      <td>NaN</td>\n",
       "      <td>Стойка для Одежды</td>\n",
       "      <td>...</td>\n",
       "      <td>False</td>\n",
       "      <td>False</td>\n",
       "      <td>False</td>\n",
       "      <td>False</td>\n",
       "      <td>True</td>\n",
       "      <td>True</td>\n",
       "      <td>0.018966</td>\n",
       "      <td>0.441268</td>\n",
       "      <td>0.581002</td>\n",
       "      <td>zero</td>\n",
       "    </tr>\n",
       "    <tr>\n",
       "      <th>2</th>\n",
       "      <td>ba83aefab5dc</td>\n",
       "      <td>91e2f88dd6e3</td>\n",
       "      <td>Ростовская область</td>\n",
       "      <td>Ростов-на-Дону</td>\n",
       "      <td>Бытовая электроника</td>\n",
       "      <td>Аудио и видео</td>\n",
       "      <td>Видео, DVD и Blu-ray плееры</td>\n",
       "      <td>NaN</td>\n",
       "      <td>NaN</td>\n",
       "      <td>Philips bluray</td>\n",
       "      <td>...</td>\n",
       "      <td>False</td>\n",
       "      <td>False</td>\n",
       "      <td>False</td>\n",
       "      <td>False</td>\n",
       "      <td>True</td>\n",
       "      <td>True</td>\n",
       "      <td>0.001430</td>\n",
       "      <td>0.441268</td>\n",
       "      <td>0.581002</td>\n",
       "      <td>mid</td>\n",
       "    </tr>\n",
       "    <tr>\n",
       "      <th>3</th>\n",
       "      <td>02996f1dd2ea</td>\n",
       "      <td>bf5cccea572d</td>\n",
       "      <td>Татарстан</td>\n",
       "      <td>Набережные Челны</td>\n",
       "      <td>Личные вещи</td>\n",
       "      <td>Товары для детей и игрушки</td>\n",
       "      <td>Автомобильные кресла</td>\n",
       "      <td>NaN</td>\n",
       "      <td>NaN</td>\n",
       "      <td>Автокресло</td>\n",
       "      <td>...</td>\n",
       "      <td>False</td>\n",
       "      <td>False</td>\n",
       "      <td>False</td>\n",
       "      <td>False</td>\n",
       "      <td>True</td>\n",
       "      <td>True</td>\n",
       "      <td>0.003416</td>\n",
       "      <td>0.441268</td>\n",
       "      <td>0.581002</td>\n",
       "      <td>high</td>\n",
       "    </tr>\n",
       "    <tr>\n",
       "      <th>4</th>\n",
       "      <td>7c90be56d2ab</td>\n",
       "      <td>ef50846afc0b</td>\n",
       "      <td>Волгоградская область</td>\n",
       "      <td>Волгоград</td>\n",
       "      <td>Транспорт</td>\n",
       "      <td>Автомобили</td>\n",
       "      <td>С пробегом</td>\n",
       "      <td>ВАЗ (LADA)</td>\n",
       "      <td>2110</td>\n",
       "      <td>ВАЗ ,</td>\n",
       "      <td>...</td>\n",
       "      <td>False</td>\n",
       "      <td>False</td>\n",
       "      <td>False</td>\n",
       "      <td>False</td>\n",
       "      <td>False</td>\n",
       "      <td>False</td>\n",
       "      <td>0.041317</td>\n",
       "      <td>0.013153</td>\n",
       "      <td>0.001273</td>\n",
       "      <td>low</td>\n",
       "    </tr>\n",
       "  </tbody>\n",
       "</table>\n",
       "<p>5 rows × 38 columns</p>\n",
       "</div>"
      ],
      "text/plain": [
       "        item_id       user_id                 region              city  \\\n",
       "0  b912c3c6a6ad  e00f8ff2eaf9   Свердловская область      Екатеринбург   \n",
       "1  2dac0150717d  39aeb48f0017      Самарская область            Самара   \n",
       "2  ba83aefab5dc  91e2f88dd6e3     Ростовская область    Ростов-на-Дону   \n",
       "3  02996f1dd2ea  bf5cccea572d              Татарстан  Набережные Челны   \n",
       "4  7c90be56d2ab  ef50846afc0b  Волгоградская область         Волгоград   \n",
       "\n",
       "  parent_category_name               category_name  \\\n",
       "0          Личные вещи  Товары для детей и игрушки   \n",
       "1      Для дома и дачи           Мебель и интерьер   \n",
       "2  Бытовая электроника               Аудио и видео   \n",
       "3          Личные вещи  Товары для детей и игрушки   \n",
       "4            Транспорт                  Автомобили   \n",
       "\n",
       "                       param_1     param_2 param_3                  title  \\\n",
       "0    Постельные принадлежности         NaN     NaN  Кокоби(кокон для сна)   \n",
       "1                       Другое         NaN     NaN      Стойка для Одежды   \n",
       "2  Видео, DVD и Blu-ray плееры         NaN     NaN         Philips bluray   \n",
       "3         Автомобильные кресла         NaN     NaN             Автокресло   \n",
       "4                   С пробегом  ВАЗ (LADA)    2110                  ВАЗ ,   \n",
       "\n",
       "      ...     description_missing  price_mising  image_missing  \\\n",
       "0     ...                   False         False          False   \n",
       "1     ...                   False         False          False   \n",
       "2     ...                   False         False          False   \n",
       "3     ...                   False         False          False   \n",
       "4     ...                   False         False          False   \n",
       "\n",
       "  param_1_missing param_2_missing param_3_missing  param_1_freq  param_2_freq  \\\n",
       "0           False            True            True      0.004292      0.441268   \n",
       "1           False            True            True      0.018966      0.441268   \n",
       "2           False            True            True      0.001430      0.441268   \n",
       "3           False            True            True      0.003416      0.441268   \n",
       "4           False           False           False      0.041317      0.013153   \n",
       "\n",
       "   param_3_freq  prob_group  \n",
       "0      0.581002         low  \n",
       "1      0.581002        zero  \n",
       "2      0.581002         mid  \n",
       "3      0.581002        high  \n",
       "4      0.001273         low  \n",
       "\n",
       "[5 rows x 38 columns]"
      ]
     },
     "execution_count": 80,
     "metadata": {},
     "output_type": "execute_result"
    }
   ],
   "source": [
    "tmp.head()"
   ]
  },
  {
   "cell_type": "code",
   "execution_count": 81,
   "metadata": {},
   "outputs": [],
   "source": [
    "word_groups = tmp.groupby([\"parent_category_name\", \"prob_group\"])['title'].apply(\n",
    "    lambda x: \" \".join(list(x))).reset_index()  "
   ]
  },
  {
   "cell_type": "code",
   "execution_count": 82,
   "metadata": {
    "scrolled": true
   },
   "outputs": [
    {
     "data": {
      "text/html": [
       "<div>\n",
       "<style scoped>\n",
       "    .dataframe tbody tr th:only-of-type {\n",
       "        vertical-align: middle;\n",
       "    }\n",
       "\n",
       "    .dataframe tbody tr th {\n",
       "        vertical-align: top;\n",
       "    }\n",
       "\n",
       "    .dataframe thead th {\n",
       "        text-align: right;\n",
       "    }\n",
       "</style>\n",
       "<table border=\"1\" class=\"dataframe\">\n",
       "  <thead>\n",
       "    <tr style=\"text-align: right;\">\n",
       "      <th></th>\n",
       "      <th>parent_category_name</th>\n",
       "      <th>prob_group</th>\n",
       "      <th>title</th>\n",
       "    </tr>\n",
       "  </thead>\n",
       "  <tbody>\n",
       "    <tr>\n",
       "      <th>0</th>\n",
       "      <td>Бытовая электроника</td>\n",
       "      <td>high</td>\n",
       "      <td>Телевизор цветной Магнитола Настольный компьют...</td>\n",
       "    </tr>\n",
       "    <tr>\n",
       "      <th>1</th>\n",
       "      <td>Бытовая электроника</td>\n",
       "      <td>low</td>\n",
       "      <td>ЖК- монитор Xbox Roverpad air . Zte blade Теле...</td>\n",
       "    </tr>\n",
       "    <tr>\n",
       "      <th>2</th>\n",
       "      <td>Бытовая электроника</td>\n",
       "      <td>mid</td>\n",
       "      <td>Philips bluray Radeon Симочки для регистрации ...</td>\n",
       "    </tr>\n",
       "    <tr>\n",
       "      <th>3</th>\n",
       "      <td>Бытовая электроника</td>\n",
       "      <td>zero</td>\n",
       "      <td>Монитор acer . Кулер для компьютера cooler mas...</td>\n",
       "    </tr>\n",
       "    <tr>\n",
       "      <th>4</th>\n",
       "      <td>Для бизнеса</td>\n",
       "      <td>high</td>\n",
       "      <td>Компрессор воздушный fubag Сплит система Ванна...</td>\n",
       "    </tr>\n",
       "    <tr>\n",
       "      <th>5</th>\n",
       "      <td>Для бизнеса</td>\n",
       "      <td>low</td>\n",
       "      <td>Аппарат для попкорна PM- Мясорубка Установка д...</td>\n",
       "    </tr>\n",
       "    <tr>\n",
       "      <th>6</th>\n",
       "      <td>Для бизнеса</td>\n",
       "      <td>mid</td>\n",
       "      <td>Модуль тип \"Орск\" * Морозильник Шиномонтаж Тор...</td>\n",
       "    </tr>\n",
       "    <tr>\n",
       "      <th>7</th>\n",
       "      <td>Для бизнеса</td>\n",
       "      <td>zero</td>\n",
       "      <td>Парикмахерское кресло Статус на гидравлике Вес...</td>\n",
       "    </tr>\n",
       "    <tr>\n",
       "      <th>8</th>\n",
       "      <td>Для дома и дачи</td>\n",
       "      <td>high</td>\n",
       "      <td>Матрас Стиральная машина LG, кг., гарантия Про...</td>\n",
       "    </tr>\n",
       "    <tr>\n",
       "      <th>9</th>\n",
       "      <td>Для дома и дачи</td>\n",
       "      <td>low</td>\n",
       "      <td>Яйцо куриное Маранта Кухонный шкаф Спальный га...</td>\n",
       "    </tr>\n",
       "    <tr>\n",
       "      <th>10</th>\n",
       "      <td>Для дома и дачи</td>\n",
       "      <td>mid</td>\n",
       "      <td>Продам плойку Прийму бой Тески станочные Маска...</td>\n",
       "    </tr>\n",
       "    <tr>\n",
       "      <th>11</th>\n",
       "      <td>Для дома и дачи</td>\n",
       "      <td>zero</td>\n",
       "      <td>Стойка для Одежды Водонагреватель  литров нерж...</td>\n",
       "    </tr>\n",
       "    <tr>\n",
       "      <th>12</th>\n",
       "      <td>Животные</td>\n",
       "      <td>high</td>\n",
       "      <td>Бычки Кошечка ищет дом Котята шотландские висл...</td>\n",
       "    </tr>\n",
       "    <tr>\n",
       "      <th>13</th>\n",
       "      <td>Животные</td>\n",
       "      <td>low</td>\n",
       "      <td>Яйцо для инкубации Вязка Канарейки Декоративну...</td>\n",
       "    </tr>\n",
       "    <tr>\n",
       "      <th>14</th>\n",
       "      <td>Животные</td>\n",
       "      <td>mid</td>\n",
       "      <td>Ищем Кота Вислоухого для вязки Отдам милых щен...</td>\n",
       "    </tr>\n",
       "    <tr>\n",
       "      <th>15</th>\n",
       "      <td>Животные</td>\n",
       "      <td>zero</td>\n",
       "      <td>Продаются щенки немецкой овчарки Таблетки брав...</td>\n",
       "    </tr>\n",
       "    <tr>\n",
       "      <th>16</th>\n",
       "      <td>Личные вещи</td>\n",
       "      <td>high</td>\n",
       "      <td>Автокресло Авто люлька Бойфренды colins Коляск...</td>\n",
       "    </tr>\n",
       "    <tr>\n",
       "      <th>17</th>\n",
       "      <td>Личные вещи</td>\n",
       "      <td>low</td>\n",
       "      <td>Кокоби(кокон для сна) Атласы и Контурныя карты...</td>\n",
       "    </tr>\n",
       "    <tr>\n",
       "      <th>18</th>\n",
       "      <td>Личные вещи</td>\n",
       "      <td>mid</td>\n",
       "      <td>Инвалидное кресло Продам брюки голубые Сандали...</td>\n",
       "    </tr>\n",
       "    <tr>\n",
       "      <th>19</th>\n",
       "      <td>Личные вещи</td>\n",
       "      <td>zero</td>\n",
       "      <td>Платье Полу ботиночки замш натур.Бамбини Джинс...</td>\n",
       "    </tr>\n",
       "    <tr>\n",
       "      <th>20</th>\n",
       "      <td>Недвижимость</td>\n",
       "      <td>certain</td>\n",
       "      <td>-к квартира,  м², / эт. -к квартира,  м², / эт...</td>\n",
       "    </tr>\n",
       "    <tr>\n",
       "      <th>21</th>\n",
       "      <td>Недвижимость</td>\n",
       "      <td>high</td>\n",
       "      <td>-к квартира,  м², / эт. Участок . га (ИЖС) Гар...</td>\n",
       "    </tr>\n",
       "    <tr>\n",
       "      <th>22</th>\n",
       "      <td>Недвижимость</td>\n",
       "      <td>low</td>\n",
       "      <td>Сниму коттедж Комната . м² в -к, / эт. Склад  ...</td>\n",
       "    </tr>\n",
       "    <tr>\n",
       "      <th>23</th>\n",
       "      <td>Недвижимость</td>\n",
       "      <td>mid</td>\n",
       "      <td>-к квартира,  м², / эт. Куплю -к квартиру -к к...</td>\n",
       "    </tr>\n",
       "    <tr>\n",
       "      <th>24</th>\n",
       "      <td>Недвижимость</td>\n",
       "      <td>zero</td>\n",
       "      <td>-к квартира,  м², / эт. -к квартира,  м², / эт...</td>\n",
       "    </tr>\n",
       "    <tr>\n",
       "      <th>25</th>\n",
       "      <td>Транспорт</td>\n",
       "      <td>high</td>\n",
       "      <td>Audi , ВАЗ , LADA Kalina, LADA Granta, Chevrol...</td>\n",
       "    </tr>\n",
       "    <tr>\n",
       "      <th>26</th>\n",
       "      <td>Транспорт</td>\n",
       "      <td>low</td>\n",
       "      <td>ВАЗ , Ford Focus, Toyota Corolla, Продам скуте...</td>\n",
       "    </tr>\n",
       "    <tr>\n",
       "      <th>27</th>\n",
       "      <td>Транспорт</td>\n",
       "      <td>mid</td>\n",
       "      <td>Chevrolet Lanos, Audi , LADA Granta, Toyota Ay...</td>\n",
       "    </tr>\n",
       "    <tr>\n",
       "      <th>28</th>\n",
       "      <td>Транспорт</td>\n",
       "      <td>zero</td>\n",
       "      <td>ГАЗ ГАЗель, ГАЗ  Волга, Стелс ГАЗ  Волга, УАЗ ...</td>\n",
       "    </tr>\n",
       "    <tr>\n",
       "      <th>29</th>\n",
       "      <td>Услуги</td>\n",
       "      <td>certain</td>\n",
       "      <td>Монтаж дверей, проемов, откосов, арок Наращива...</td>\n",
       "    </tr>\n",
       "    <tr>\n",
       "      <th>30</th>\n",
       "      <td>Услуги</td>\n",
       "      <td>high</td>\n",
       "      <td>Быстровозводимые каркасные строения Манипулято...</td>\n",
       "    </tr>\n",
       "    <tr>\n",
       "      <th>31</th>\n",
       "      <td>Услуги</td>\n",
       "      <td>low</td>\n",
       "      <td>Кровля Няня Дизайнеров сайтов, продвижение Пок...</td>\n",
       "    </tr>\n",
       "    <tr>\n",
       "      <th>32</th>\n",
       "      <td>Услуги</td>\n",
       "      <td>mid</td>\n",
       "      <td>Муж на час или дольше Обмен места в детском са...</td>\n",
       "    </tr>\n",
       "    <tr>\n",
       "      <th>33</th>\n",
       "      <td>Услуги</td>\n",
       "      <td>zero</td>\n",
       "      <td>Ремонт -установка сан.тех. оборудования Мастер...</td>\n",
       "    </tr>\n",
       "    <tr>\n",
       "      <th>34</th>\n",
       "      <td>Хобби и отдых</td>\n",
       "      <td>high</td>\n",
       "      <td>Ролики для девочки Гребной тренажёр Продам дет...</td>\n",
       "    </tr>\n",
       "    <tr>\n",
       "      <th>35</th>\n",
       "      <td>Хобби и отдых</td>\n",
       "      <td>low</td>\n",
       "      <td>Горящий Китай, о.Хайнань  ночей - звезд Детска...</td>\n",
       "    </tr>\n",
       "    <tr>\n",
       "      <th>36</th>\n",
       "      <td>Хобби и отдых</td>\n",
       "      <td>mid</td>\n",
       "      <td>Мангал Dji phantom  pro Продам механическую бе...</td>\n",
       "    </tr>\n",
       "    <tr>\n",
       "      <th>37</th>\n",
       "      <td>Хобби и отдых</td>\n",
       "      <td>zero</td>\n",
       "      <td>Медаль ВАЗ. В честь пуска завода Хоккейная фор...</td>\n",
       "    </tr>\n",
       "  </tbody>\n",
       "</table>\n",
       "</div>"
      ],
      "text/plain": [
       "   parent_category_name prob_group  \\\n",
       "0   Бытовая электроника       high   \n",
       "1   Бытовая электроника        low   \n",
       "2   Бытовая электроника        mid   \n",
       "3   Бытовая электроника       zero   \n",
       "4           Для бизнеса       high   \n",
       "5           Для бизнеса        low   \n",
       "6           Для бизнеса        mid   \n",
       "7           Для бизнеса       zero   \n",
       "8       Для дома и дачи       high   \n",
       "9       Для дома и дачи        low   \n",
       "10      Для дома и дачи        mid   \n",
       "11      Для дома и дачи       zero   \n",
       "12             Животные       high   \n",
       "13             Животные        low   \n",
       "14             Животные        mid   \n",
       "15             Животные       zero   \n",
       "16          Личные вещи       high   \n",
       "17          Личные вещи        low   \n",
       "18          Личные вещи        mid   \n",
       "19          Личные вещи       zero   \n",
       "20         Недвижимость    certain   \n",
       "21         Недвижимость       high   \n",
       "22         Недвижимость        low   \n",
       "23         Недвижимость        mid   \n",
       "24         Недвижимость       zero   \n",
       "25            Транспорт       high   \n",
       "26            Транспорт        low   \n",
       "27            Транспорт        mid   \n",
       "28            Транспорт       zero   \n",
       "29               Услуги    certain   \n",
       "30               Услуги       high   \n",
       "31               Услуги        low   \n",
       "32               Услуги        mid   \n",
       "33               Услуги       zero   \n",
       "34        Хобби и отдых       high   \n",
       "35        Хобби и отдых        low   \n",
       "36        Хобби и отдых        mid   \n",
       "37        Хобби и отдых       zero   \n",
       "\n",
       "                                                title  \n",
       "0   Телевизор цветной Магнитола Настольный компьют...  \n",
       "1   ЖК- монитор Xbox Roverpad air . Zte blade Теле...  \n",
       "2   Philips bluray Radeon Симочки для регистрации ...  \n",
       "3   Монитор acer . Кулер для компьютера cooler mas...  \n",
       "4   Компрессор воздушный fubag Сплит система Ванна...  \n",
       "5   Аппарат для попкорна PM- Мясорубка Установка д...  \n",
       "6   Модуль тип \"Орск\" * Морозильник Шиномонтаж Тор...  \n",
       "7   Парикмахерское кресло Статус на гидравлике Вес...  \n",
       "8   Матрас Стиральная машина LG, кг., гарантия Про...  \n",
       "9   Яйцо куриное Маранта Кухонный шкаф Спальный га...  \n",
       "10  Продам плойку Прийму бой Тески станочные Маска...  \n",
       "11  Стойка для Одежды Водонагреватель  литров нерж...  \n",
       "12  Бычки Кошечка ищет дом Котята шотландские висл...  \n",
       "13  Яйцо для инкубации Вязка Канарейки Декоративну...  \n",
       "14  Ищем Кота Вислоухого для вязки Отдам милых щен...  \n",
       "15  Продаются щенки немецкой овчарки Таблетки брав...  \n",
       "16  Автокресло Авто люлька Бойфренды colins Коляск...  \n",
       "17  Кокоби(кокон для сна) Атласы и Контурныя карты...  \n",
       "18  Инвалидное кресло Продам брюки голубые Сандали...  \n",
       "19  Платье Полу ботиночки замш натур.Бамбини Джинс...  \n",
       "20  -к квартира,  м², / эт. -к квартира,  м², / эт...  \n",
       "21  -к квартира,  м², / эт. Участок . га (ИЖС) Гар...  \n",
       "22  Сниму коттедж Комната . м² в -к, / эт. Склад  ...  \n",
       "23  -к квартира,  м², / эт. Куплю -к квартиру -к к...  \n",
       "24  -к квартира,  м², / эт. -к квартира,  м², / эт...  \n",
       "25  Audi , ВАЗ , LADA Kalina, LADA Granta, Chevrol...  \n",
       "26  ВАЗ , Ford Focus, Toyota Corolla, Продам скуте...  \n",
       "27  Chevrolet Lanos, Audi , LADA Granta, Toyota Ay...  \n",
       "28  ГАЗ ГАЗель, ГАЗ  Волга, Стелс ГАЗ  Волга, УАЗ ...  \n",
       "29  Монтаж дверей, проемов, откосов, арок Наращива...  \n",
       "30  Быстровозводимые каркасные строения Манипулято...  \n",
       "31  Кровля Няня Дизайнеров сайтов, продвижение Пок...  \n",
       "32  Муж на час или дольше Обмен места в детском са...  \n",
       "33  Ремонт -установка сан.тех. оборудования Мастер...  \n",
       "34  Ролики для девочки Гребной тренажёр Продам дет...  \n",
       "35  Горящий Китай, о.Хайнань  ночей - звезд Детска...  \n",
       "36  Мангал Dji phantom  pro Продам механическую бе...  \n",
       "37  Медаль ВАЗ. В честь пуска завода Хоккейная фор...  "
      ]
     },
     "execution_count": 82,
     "metadata": {},
     "output_type": "execute_result"
    }
   ],
   "source": [
    "word_groups"
   ]
  },
  {
   "cell_type": "markdown",
   "metadata": {},
   "source": [
    "Now, I want to build a tf-idf vectorizer. First, loading a list of russian stopwords"
   ]
  },
  {
   "cell_type": "code",
   "execution_count": 7,
   "metadata": {
    "scrolled": false
   },
   "outputs": [],
   "source": [
    "stopwords = pd.read_csv(\"../data/stopwords/russian_stopwords.txt\", header=None)[0].values.tolist()"
   ]
  },
  {
   "cell_type": "code",
   "execution_count": 207,
   "metadata": {},
   "outputs": [],
   "source": [
    "title_vect = TfidfVectorizer(stop_words = stopwords, ngram_range=(1,2))"
   ]
  },
  {
   "cell_type": "markdown",
   "metadata": {},
   "source": [
    "And now fitting the transformer to the grouped data"
   ]
  },
  {
   "cell_type": "code",
   "execution_count": 208,
   "metadata": {},
   "outputs": [],
   "source": [
    "# fit a tf-idf vectorizer onto the titles\n",
    "title_tf_idf = title_vect.fit_transform(word_groups.title.values)"
   ]
  },
  {
   "cell_type": "code",
   "execution_count": 212,
   "metadata": {},
   "outputs": [],
   "source": [
    "reverse_vocab = {v:k for k,v in title_vect.vocabulary_.items()}"
   ]
  },
  {
   "cell_type": "code",
   "execution_count": 8,
   "metadata": {},
   "outputs": [],
   "source": [
    "def build_top_set(tfidf_matrix, reverse_vocab, top = 3):\n",
    "    top_words = set()\n",
    "    for doc in range(tfidf_matrix.shape[0]):\n",
    "        top_indecies = np.asarray(tfidf_matrix[doc].todense()).argsort().reshape((-1,))[-top:]\n",
    "        for ind in top_indecies:\n",
    "            top_words.add(reverse_vocab[ind])\n",
    "    return top_words"
   ]
  },
  {
   "cell_type": "code",
   "execution_count": 213,
   "metadata": {},
   "outputs": [],
   "source": [
    "title_top3 = build_top_set(title_tf_idf, reverse_vocab, top = 3)"
   ]
  },
  {
   "cell_type": "code",
   "execution_count": 214,
   "metadata": {},
   "outputs": [
    {
     "data": {
      "text/plain": [
       "{'asus',\n",
       " 'iphone',\n",
       " 'lada',\n",
       " 'samsung',\n",
       " 'samsung galaxy',\n",
       " 'toyota',\n",
       " 'аквариум',\n",
       " 'ваз',\n",
       " 'ваз samara',\n",
       " 'велосипед',\n",
       " 'витрина',\n",
       " 'грузоперевозки',\n",
       " 'детский велосипед',\n",
       " 'диван',\n",
       " 'добрые',\n",
       " 'добрые руки',\n",
       " 'квартира м²',\n",
       " 'коляска',\n",
       " 'коньки',\n",
       " 'кровать',\n",
       " 'кроссовки',\n",
       " 'куртка',\n",
       " 'м²',\n",
       " 'м² эт',\n",
       " 'монеты',\n",
       " 'оборудование',\n",
       " 'отдам',\n",
       " 'платье',\n",
       " 'продам',\n",
       " 'работы',\n",
       " 'ремонт',\n",
       " 'руки',\n",
       " 'ссср',\n",
       " 'станок',\n",
       " 'стиральная',\n",
       " 'телевизор',\n",
       " 'туфли',\n",
       " 'услуги',\n",
       " 'холодильная',\n",
       " 'холодильник',\n",
       " 'щенки'}"
      ]
     },
     "execution_count": 214,
     "metadata": {},
     "output_type": "execute_result"
    }
   ],
   "source": [
    "title_top3"
   ]
  },
  {
   "cell_type": "markdown",
   "metadata": {},
   "source": [
    "Some of these tokens are interesting, like \"samsung galaxy\" and \"квартира м²\" (apartment meters squared\"), but they don't seem super particular to a parent category. Perhaps it would be better to simply group by the deal probability. "
   ]
  },
  {
   "cell_type": "code",
   "execution_count": 9,
   "metadata": {},
   "outputs": [],
   "source": [
    "# gather the words simply based on the probability group they're in. \n",
    "prob_group_words = tmp.groupby('prob_group')['title'].apply(\n",
    "    lambda x: \" \".join(list(x))).reset_index()  "
   ]
  },
  {
   "cell_type": "code",
   "execution_count": 185,
   "metadata": {},
   "outputs": [],
   "source": [
    "prob_group_vect = TfidfVectorizer(stop_words=stopwords)"
   ]
  },
  {
   "cell_type": "code",
   "execution_count": 186,
   "metadata": {},
   "outputs": [],
   "source": [
    "prob_group_tfidf = prob_group_vect.fit_transform(prob_group_words.title.values)"
   ]
  },
  {
   "cell_type": "code",
   "execution_count": 187,
   "metadata": {},
   "outputs": [],
   "source": [
    "reverse_vocab_prob_group = {k:v for v, k in prob_group_vect.vocabulary_.items()}"
   ]
  },
  {
   "cell_type": "code",
   "execution_count": 10,
   "metadata": {},
   "outputs": [
    {
     "data": {
      "text/html": [
       "<div>\n",
       "<style scoped>\n",
       "    .dataframe tbody tr th:only-of-type {\n",
       "        vertical-align: middle;\n",
       "    }\n",
       "\n",
       "    .dataframe tbody tr th {\n",
       "        vertical-align: top;\n",
       "    }\n",
       "\n",
       "    .dataframe thead th {\n",
       "        text-align: right;\n",
       "    }\n",
       "</style>\n",
       "<table border=\"1\" class=\"dataframe\">\n",
       "  <thead>\n",
       "    <tr style=\"text-align: right;\">\n",
       "      <th></th>\n",
       "      <th>prob_group</th>\n",
       "      <th>title</th>\n",
       "    </tr>\n",
       "  </thead>\n",
       "  <tbody>\n",
       "    <tr>\n",
       "      <th>0</th>\n",
       "      <td>certain</td>\n",
       "      <td>Монтаж дверей, проемов, откосов, арок Наращива...</td>\n",
       "    </tr>\n",
       "    <tr>\n",
       "      <th>1</th>\n",
       "      <td>high</td>\n",
       "      <td>Автокресло Авто люлька Бойфренды colins Бычки ...</td>\n",
       "    </tr>\n",
       "    <tr>\n",
       "      <th>2</th>\n",
       "      <td>low</td>\n",
       "      <td>Кокоби(кокон для сна) ВАЗ , Атласы и Контурныя...</td>\n",
       "    </tr>\n",
       "    <tr>\n",
       "      <th>3</th>\n",
       "      <td>mid</td>\n",
       "      <td>Philips bluray -к квартира,  м², / эт. Chevrol...</td>\n",
       "    </tr>\n",
       "    <tr>\n",
       "      <th>4</th>\n",
       "      <td>zero</td>\n",
       "      <td>Стойка для Одежды Водонагреватель  литров нерж...</td>\n",
       "    </tr>\n",
       "  </tbody>\n",
       "</table>\n",
       "</div>"
      ],
      "text/plain": [
       "  prob_group                                              title\n",
       "0    certain  Монтаж дверей, проемов, откосов, арок Наращива...\n",
       "1       high  Автокресло Авто люлька Бойфренды colins Бычки ...\n",
       "2        low  Кокоби(кокон для сна) ВАЗ , Атласы и Контурныя...\n",
       "3        mid  Philips bluray -к квартира,  м², / эт. Chevrol...\n",
       "4       zero  Стойка для Одежды Водонагреватель  литров нерж..."
      ]
     },
     "execution_count": 10,
     "metadata": {},
     "output_type": "execute_result"
    }
   ],
   "source": [
    "prob_group_words"
   ]
  },
  {
   "cell_type": "code",
   "execution_count": 267,
   "metadata": {},
   "outputs": [],
   "source": [
    "top_words_probgroup = build_top_set(prob_group_tfidf, reverse_vocab_prob_group, top = 10)"
   ]
  },
  {
   "cell_type": "code",
   "execution_count": 268,
   "metadata": {},
   "outputs": [
    {
     "data": {
      "text/plain": [
       "{'iphone',\n",
       " 'samsung',\n",
       " 'авто',\n",
       " 'аренда',\n",
       " 'аренду',\n",
       " 'ваз',\n",
       " 'велосипед',\n",
       " 'грузоперевозки',\n",
       " 'грузчики',\n",
       " 'ижс',\n",
       " 'квартира',\n",
       " 'коляска',\n",
       " 'комбинезон',\n",
       " 'костюм',\n",
       " 'куртка',\n",
       " 'м²',\n",
       " 'наращивание',\n",
       " 'новые',\n",
       " 'платье',\n",
       " 'продам',\n",
       " 'работы',\n",
       " 'ремонт',\n",
       " 'репетитор',\n",
       " 'сниму',\n",
       " 'сот',\n",
       " 'туфли',\n",
       " 'услуги',\n",
       " 'участке',\n",
       " 'участок',\n",
       " 'эт'}"
      ]
     },
     "execution_count": 268,
     "metadata": {},
     "output_type": "execute_result"
    }
   ],
   "source": [
    "top_words_probgroup"
   ]
  },
  {
   "cell_type": "markdown",
   "metadata": {},
   "source": [
    "Again, some of these are interesting. BUt per"
   ]
  },
  {
   "cell_type": "code",
   "execution_count": 11,
   "metadata": {},
   "outputs": [],
   "source": [
    "prob_group_bigram_vect = TfidfVectorizer(stop_words=stopwords, ngram_range=(1,2))"
   ]
  },
  {
   "cell_type": "code",
   "execution_count": 12,
   "metadata": {},
   "outputs": [],
   "source": [
    "prob_group_bigram_tfidf = prob_group_bigram_vect.fit_transform(prob_group_words.title.values)"
   ]
  },
  {
   "cell_type": "code",
   "execution_count": 13,
   "metadata": {},
   "outputs": [],
   "source": [
    "reverse_vocab_prob_group_bigram = {k:v for v, k in prob_group_bigram_vect.vocabulary_.items()}"
   ]
  },
  {
   "cell_type": "code",
   "execution_count": 14,
   "metadata": {},
   "outputs": [],
   "source": [
    "top_bigrams_probgroup = build_top_set(prob_group_bigram_tfidf, reverse_vocab_prob_group_bigram, top = 15)"
   ]
  },
  {
   "cell_type": "code",
   "execution_count": 15,
   "metadata": {
    "scrolled": true
   },
   "outputs": [
    {
     "data": {
      "text/plain": [
       "{'iphone',\n",
       " 'samsung',\n",
       " 'авто',\n",
       " 'аренда',\n",
       " 'аренду',\n",
       " 'ботинки',\n",
       " 'ваз',\n",
       " 'велосипед',\n",
       " 'газель',\n",
       " 'грузоперевозки',\n",
       " 'грузчики',\n",
       " 'детский',\n",
       " 'диван',\n",
       " 'ижс',\n",
       " 'квартир',\n",
       " 'квартира',\n",
       " 'квартира м²',\n",
       " 'коляска',\n",
       " 'комбинезон',\n",
       " 'костюм',\n",
       " 'куртка',\n",
       " 'м²',\n",
       " 'м² участке',\n",
       " 'м² эт',\n",
       " 'мастер',\n",
       " 'наращивание',\n",
       " 'новые',\n",
       " 'пальто',\n",
       " 'платье',\n",
       " 'продам',\n",
       " 'работы',\n",
       " 'ремонт',\n",
       " 'репетитор',\n",
       " 'сапоги',\n",
       " 'сниму',\n",
       " 'сот',\n",
       " 'сот ижс',\n",
       " 'строительство',\n",
       " 'туфли',\n",
       " 'услуги',\n",
       " 'установка',\n",
       " 'участке',\n",
       " 'участке сот',\n",
       " 'участок',\n",
       " 'участок сот',\n",
       " 'эт',\n",
       " 'эт квартира'}"
      ]
     },
     "execution_count": 15,
     "metadata": {},
     "output_type": "execute_result"
    }
   ],
   "source": [
    "top_bigrams_probgroup"
   ]
  },
  {
   "cell_type": "code",
   "execution_count": 16,
   "metadata": {},
   "outputs": [],
   "source": [
    "# annoying leftover stopwords\n",
    "top_bigrams_probgroup.remove(\"эт\")\n",
    "top_bigrams_probgroup.remove(\"сот\")"
   ]
  },
  {
   "cell_type": "code",
   "execution_count": 17,
   "metadata": {},
   "outputs": [],
   "source": [
    "def add_title_token_cols(df, tokens):\n",
    "    for token in tokens:\n",
    "        colname = \"contains_\" + token.replace(\" \", \"_\")\n",
    "        df[colname] = df.title.apply(lambda x: token in x.lower())\n",
    "    return df"
   ]
  },
  {
   "cell_type": "code",
   "execution_count": 18,
   "metadata": {},
   "outputs": [],
   "source": [
    "train = add_title_token_cols(train, top_bigrams_probgroup)"
   ]
  },
  {
   "cell_type": "code",
   "execution_count": 19,
   "metadata": {},
   "outputs": [],
   "source": [
    "test = add_title_token_cols(test, top_bigrams_probgroup)"
   ]
  },
  {
   "cell_type": "code",
   "execution_count": 20,
   "metadata": {},
   "outputs": [
    {
     "data": {
      "text/html": [
       "<div>\n",
       "<style scoped>\n",
       "    .dataframe tbody tr th:only-of-type {\n",
       "        vertical-align: middle;\n",
       "    }\n",
       "\n",
       "    .dataframe tbody tr th {\n",
       "        vertical-align: top;\n",
       "    }\n",
       "\n",
       "    .dataframe thead th {\n",
       "        text-align: right;\n",
       "    }\n",
       "</style>\n",
       "<table border=\"1\" class=\"dataframe\">\n",
       "  <thead>\n",
       "    <tr style=\"text-align: right;\">\n",
       "      <th></th>\n",
       "      <th>item_id</th>\n",
       "      <th>user_id</th>\n",
       "      <th>region</th>\n",
       "      <th>city</th>\n",
       "      <th>parent_category_name</th>\n",
       "      <th>category_name</th>\n",
       "      <th>param_1</th>\n",
       "      <th>param_2</th>\n",
       "      <th>param_3</th>\n",
       "      <th>title</th>\n",
       "      <th>...</th>\n",
       "      <th>contains_ремонт</th>\n",
       "      <th>contains_комбинезон</th>\n",
       "      <th>contains_наращивание</th>\n",
       "      <th>contains_коляска</th>\n",
       "      <th>contains_диван</th>\n",
       "      <th>contains_samsung</th>\n",
       "      <th>contains_продам</th>\n",
       "      <th>contains_костюм</th>\n",
       "      <th>contains_авто</th>\n",
       "      <th>contains_iphone</th>\n",
       "    </tr>\n",
       "  </thead>\n",
       "  <tbody>\n",
       "    <tr>\n",
       "      <th>0</th>\n",
       "      <td>b912c3c6a6ad</td>\n",
       "      <td>e00f8ff2eaf9</td>\n",
       "      <td>Свердловская область</td>\n",
       "      <td>Екатеринбург</td>\n",
       "      <td>Личные вещи</td>\n",
       "      <td>Товары для детей и игрушки</td>\n",
       "      <td>Постельные принадлежности</td>\n",
       "      <td>NaN</td>\n",
       "      <td>NaN</td>\n",
       "      <td>Кокоби(кокон для сна)</td>\n",
       "      <td>...</td>\n",
       "      <td>False</td>\n",
       "      <td>False</td>\n",
       "      <td>False</td>\n",
       "      <td>False</td>\n",
       "      <td>False</td>\n",
       "      <td>False</td>\n",
       "      <td>False</td>\n",
       "      <td>False</td>\n",
       "      <td>False</td>\n",
       "      <td>False</td>\n",
       "    </tr>\n",
       "    <tr>\n",
       "      <th>1</th>\n",
       "      <td>2dac0150717d</td>\n",
       "      <td>39aeb48f0017</td>\n",
       "      <td>Самарская область</td>\n",
       "      <td>Самара</td>\n",
       "      <td>Для дома и дачи</td>\n",
       "      <td>Мебель и интерьер</td>\n",
       "      <td>Другое</td>\n",
       "      <td>NaN</td>\n",
       "      <td>NaN</td>\n",
       "      <td>Стойка для Одежды</td>\n",
       "      <td>...</td>\n",
       "      <td>False</td>\n",
       "      <td>False</td>\n",
       "      <td>False</td>\n",
       "      <td>False</td>\n",
       "      <td>False</td>\n",
       "      <td>False</td>\n",
       "      <td>False</td>\n",
       "      <td>False</td>\n",
       "      <td>False</td>\n",
       "      <td>False</td>\n",
       "    </tr>\n",
       "    <tr>\n",
       "      <th>2</th>\n",
       "      <td>ba83aefab5dc</td>\n",
       "      <td>91e2f88dd6e3</td>\n",
       "      <td>Ростовская область</td>\n",
       "      <td>Ростов-на-Дону</td>\n",
       "      <td>Бытовая электроника</td>\n",
       "      <td>Аудио и видео</td>\n",
       "      <td>Видео, DVD и Blu-ray плееры</td>\n",
       "      <td>NaN</td>\n",
       "      <td>NaN</td>\n",
       "      <td>Philips bluray</td>\n",
       "      <td>...</td>\n",
       "      <td>False</td>\n",
       "      <td>False</td>\n",
       "      <td>False</td>\n",
       "      <td>False</td>\n",
       "      <td>False</td>\n",
       "      <td>False</td>\n",
       "      <td>False</td>\n",
       "      <td>False</td>\n",
       "      <td>False</td>\n",
       "      <td>False</td>\n",
       "    </tr>\n",
       "    <tr>\n",
       "      <th>3</th>\n",
       "      <td>02996f1dd2ea</td>\n",
       "      <td>bf5cccea572d</td>\n",
       "      <td>Татарстан</td>\n",
       "      <td>Набережные Челны</td>\n",
       "      <td>Личные вещи</td>\n",
       "      <td>Товары для детей и игрушки</td>\n",
       "      <td>Автомобильные кресла</td>\n",
       "      <td>NaN</td>\n",
       "      <td>NaN</td>\n",
       "      <td>Автокресло</td>\n",
       "      <td>...</td>\n",
       "      <td>False</td>\n",
       "      <td>False</td>\n",
       "      <td>False</td>\n",
       "      <td>False</td>\n",
       "      <td>False</td>\n",
       "      <td>False</td>\n",
       "      <td>False</td>\n",
       "      <td>False</td>\n",
       "      <td>True</td>\n",
       "      <td>False</td>\n",
       "    </tr>\n",
       "    <tr>\n",
       "      <th>4</th>\n",
       "      <td>7c90be56d2ab</td>\n",
       "      <td>ef50846afc0b</td>\n",
       "      <td>Волгоградская область</td>\n",
       "      <td>Волгоград</td>\n",
       "      <td>Транспорт</td>\n",
       "      <td>Автомобили</td>\n",
       "      <td>С пробегом</td>\n",
       "      <td>ВАЗ (LADA)</td>\n",
       "      <td>2110</td>\n",
       "      <td>ВАЗ ,</td>\n",
       "      <td>...</td>\n",
       "      <td>False</td>\n",
       "      <td>False</td>\n",
       "      <td>False</td>\n",
       "      <td>False</td>\n",
       "      <td>False</td>\n",
       "      <td>False</td>\n",
       "      <td>False</td>\n",
       "      <td>False</td>\n",
       "      <td>False</td>\n",
       "      <td>False</td>\n",
       "    </tr>\n",
       "  </tbody>\n",
       "</table>\n",
       "<p>5 rows × 83 columns</p>\n",
       "</div>"
      ],
      "text/plain": [
       "        item_id       user_id                 region              city  \\\n",
       "0  b912c3c6a6ad  e00f8ff2eaf9   Свердловская область      Екатеринбург   \n",
       "1  2dac0150717d  39aeb48f0017      Самарская область            Самара   \n",
       "2  ba83aefab5dc  91e2f88dd6e3     Ростовская область    Ростов-на-Дону   \n",
       "3  02996f1dd2ea  bf5cccea572d              Татарстан  Набережные Челны   \n",
       "4  7c90be56d2ab  ef50846afc0b  Волгоградская область         Волгоград   \n",
       "\n",
       "  parent_category_name               category_name  \\\n",
       "0          Личные вещи  Товары для детей и игрушки   \n",
       "1      Для дома и дачи           Мебель и интерьер   \n",
       "2  Бытовая электроника               Аудио и видео   \n",
       "3          Личные вещи  Товары для детей и игрушки   \n",
       "4            Транспорт                  Автомобили   \n",
       "\n",
       "                       param_1     param_2 param_3                  title  \\\n",
       "0    Постельные принадлежности         NaN     NaN  Кокоби(кокон для сна)   \n",
       "1                       Другое         NaN     NaN      Стойка для Одежды   \n",
       "2  Видео, DVD и Blu-ray плееры         NaN     NaN         Philips bluray   \n",
       "3         Автомобильные кресла         NaN     NaN             Автокресло   \n",
       "4                   С пробегом  ВАЗ (LADA)    2110                  ВАЗ ,   \n",
       "\n",
       "        ...        contains_ремонт  contains_комбинезон  contains_наращивание  \\\n",
       "0       ...                  False                False                 False   \n",
       "1       ...                  False                False                 False   \n",
       "2       ...                  False                False                 False   \n",
       "3       ...                  False                False                 False   \n",
       "4       ...                  False                False                 False   \n",
       "\n",
       "  contains_коляска contains_диван contains_samsung  contains_продам  \\\n",
       "0            False          False            False            False   \n",
       "1            False          False            False            False   \n",
       "2            False          False            False            False   \n",
       "3            False          False            False            False   \n",
       "4            False          False            False            False   \n",
       "\n",
       "   contains_костюм  contains_авто  contains_iphone  \n",
       "0            False          False            False  \n",
       "1            False          False            False  \n",
       "2            False          False            False  \n",
       "3            False           True            False  \n",
       "4            False          False            False  \n",
       "\n",
       "[5 rows x 83 columns]"
      ]
     },
     "execution_count": 20,
     "metadata": {},
     "output_type": "execute_result"
    }
   ],
   "source": [
    "train.head()"
   ]
  },
  {
   "cell_type": "markdown",
   "metadata": {},
   "source": [
    "---\n",
    "\n",
    "## 2. One-hot encode columns"
   ]
  },
  {
   "cell_type": "markdown",
   "metadata": {},
   "source": [
    "First, adding one hot encodings to the parent category"
   ]
  },
  {
   "cell_type": "code",
   "execution_count": 20,
   "metadata": {},
   "outputs": [],
   "source": [
    "category_enc = LabelEncoder()"
   ]
  },
  {
   "cell_type": "code",
   "execution_count": 21,
   "metadata": {},
   "outputs": [
    {
     "name": "stderr",
     "output_type": "stream",
     "text": [
      "/usr/local/lib/python3.6/site-packages/sklearn/preprocessing/label.py:95: DataConversionWarning: A column-vector y was passed when a 1d array was expected. Please change the shape of y to (n_samples, ), for example using ravel().\n",
      "  y = column_or_1d(y, warn=True)\n"
     ]
    },
    {
     "data": {
      "text/plain": [
       "LabelEncoder()"
      ]
     },
     "execution_count": 21,
     "metadata": {},
     "output_type": "execute_result"
    }
   ],
   "source": [
    "category_enc.fit(np.append(train['parent_category_name'],test['parent_category_name']).reshape(-1,1))"
   ]
  },
  {
   "cell_type": "code",
   "execution_count": 22,
   "metadata": {},
   "outputs": [],
   "source": [
    "train['category_int_encoding'] = category_enc.transform(train.parent_category_name)"
   ]
  },
  {
   "cell_type": "code",
   "execution_count": 23,
   "metadata": {},
   "outputs": [],
   "source": [
    "train = train.join(pd.get_dummies(train.category_int_encoding, prefix = \"parent_category_\"))"
   ]
  },
  {
   "cell_type": "code",
   "execution_count": 24,
   "metadata": {},
   "outputs": [],
   "source": [
    "test['category_int_encoding'] = category_enc.transform(test.parent_category_name)"
   ]
  },
  {
   "cell_type": "code",
   "execution_count": 25,
   "metadata": {},
   "outputs": [],
   "source": [
    "test = test.join(pd.get_dummies(test.category_int_encoding, prefix = \"parent_category_\"))"
   ]
  },
  {
   "cell_type": "code",
   "execution_count": 329,
   "metadata": {},
   "outputs": [
    {
     "data": {
      "text/html": [
       "<div>\n",
       "<style scoped>\n",
       "    .dataframe tbody tr th:only-of-type {\n",
       "        vertical-align: middle;\n",
       "    }\n",
       "\n",
       "    .dataframe tbody tr th {\n",
       "        vertical-align: top;\n",
       "    }\n",
       "\n",
       "    .dataframe thead th {\n",
       "        text-align: right;\n",
       "    }\n",
       "</style>\n",
       "<table border=\"1\" class=\"dataframe\">\n",
       "  <thead>\n",
       "    <tr style=\"text-align: right;\">\n",
       "      <th></th>\n",
       "      <th>item_id</th>\n",
       "      <th>user_id</th>\n",
       "      <th>region</th>\n",
       "      <th>city</th>\n",
       "      <th>parent_category_name</th>\n",
       "      <th>category_name</th>\n",
       "      <th>param_1</th>\n",
       "      <th>param_2</th>\n",
       "      <th>param_3</th>\n",
       "      <th>title</th>\n",
       "      <th>...</th>\n",
       "      <th>category_int_encoding</th>\n",
       "      <th>parent_category__0</th>\n",
       "      <th>parent_category__1</th>\n",
       "      <th>parent_category__2</th>\n",
       "      <th>parent_category__3</th>\n",
       "      <th>parent_category__4</th>\n",
       "      <th>parent_category__5</th>\n",
       "      <th>parent_category__6</th>\n",
       "      <th>parent_category__7</th>\n",
       "      <th>parent_category__8</th>\n",
       "    </tr>\n",
       "  </thead>\n",
       "  <tbody>\n",
       "    <tr>\n",
       "      <th>0</th>\n",
       "      <td>b912c3c6a6ad</td>\n",
       "      <td>e00f8ff2eaf9</td>\n",
       "      <td>Свердловская область</td>\n",
       "      <td>Екатеринбург</td>\n",
       "      <td>Личные вещи</td>\n",
       "      <td>Товары для детей и игрушки</td>\n",
       "      <td>Постельные принадлежности</td>\n",
       "      <td>NaN</td>\n",
       "      <td>NaN</td>\n",
       "      <td>Кокоби(кокон для сна)</td>\n",
       "      <td>...</td>\n",
       "      <td>4</td>\n",
       "      <td>0</td>\n",
       "      <td>0</td>\n",
       "      <td>0</td>\n",
       "      <td>0</td>\n",
       "      <td>1</td>\n",
       "      <td>0</td>\n",
       "      <td>0</td>\n",
       "      <td>0</td>\n",
       "      <td>0</td>\n",
       "    </tr>\n",
       "    <tr>\n",
       "      <th>1</th>\n",
       "      <td>2dac0150717d</td>\n",
       "      <td>39aeb48f0017</td>\n",
       "      <td>Самарская область</td>\n",
       "      <td>Самара</td>\n",
       "      <td>Для дома и дачи</td>\n",
       "      <td>Мебель и интерьер</td>\n",
       "      <td>Другое</td>\n",
       "      <td>NaN</td>\n",
       "      <td>NaN</td>\n",
       "      <td>Стойка для Одежды</td>\n",
       "      <td>...</td>\n",
       "      <td>2</td>\n",
       "      <td>0</td>\n",
       "      <td>0</td>\n",
       "      <td>1</td>\n",
       "      <td>0</td>\n",
       "      <td>0</td>\n",
       "      <td>0</td>\n",
       "      <td>0</td>\n",
       "      <td>0</td>\n",
       "      <td>0</td>\n",
       "    </tr>\n",
       "    <tr>\n",
       "      <th>2</th>\n",
       "      <td>ba83aefab5dc</td>\n",
       "      <td>91e2f88dd6e3</td>\n",
       "      <td>Ростовская область</td>\n",
       "      <td>Ростов-на-Дону</td>\n",
       "      <td>Бытовая электроника</td>\n",
       "      <td>Аудио и видео</td>\n",
       "      <td>Видео, DVD и Blu-ray плееры</td>\n",
       "      <td>NaN</td>\n",
       "      <td>NaN</td>\n",
       "      <td>Philips bluray</td>\n",
       "      <td>...</td>\n",
       "      <td>0</td>\n",
       "      <td>1</td>\n",
       "      <td>0</td>\n",
       "      <td>0</td>\n",
       "      <td>0</td>\n",
       "      <td>0</td>\n",
       "      <td>0</td>\n",
       "      <td>0</td>\n",
       "      <td>0</td>\n",
       "      <td>0</td>\n",
       "    </tr>\n",
       "    <tr>\n",
       "      <th>3</th>\n",
       "      <td>02996f1dd2ea</td>\n",
       "      <td>bf5cccea572d</td>\n",
       "      <td>Татарстан</td>\n",
       "      <td>Набережные Челны</td>\n",
       "      <td>Личные вещи</td>\n",
       "      <td>Товары для детей и игрушки</td>\n",
       "      <td>Автомобильные кресла</td>\n",
       "      <td>NaN</td>\n",
       "      <td>NaN</td>\n",
       "      <td>Автокресло</td>\n",
       "      <td>...</td>\n",
       "      <td>4</td>\n",
       "      <td>0</td>\n",
       "      <td>0</td>\n",
       "      <td>0</td>\n",
       "      <td>0</td>\n",
       "      <td>1</td>\n",
       "      <td>0</td>\n",
       "      <td>0</td>\n",
       "      <td>0</td>\n",
       "      <td>0</td>\n",
       "    </tr>\n",
       "    <tr>\n",
       "      <th>4</th>\n",
       "      <td>7c90be56d2ab</td>\n",
       "      <td>ef50846afc0b</td>\n",
       "      <td>Волгоградская область</td>\n",
       "      <td>Волгоград</td>\n",
       "      <td>Транспорт</td>\n",
       "      <td>Автомобили</td>\n",
       "      <td>С пробегом</td>\n",
       "      <td>ВАЗ (LADA)</td>\n",
       "      <td>2110</td>\n",
       "      <td>ВАЗ 2110, 2003</td>\n",
       "      <td>...</td>\n",
       "      <td>6</td>\n",
       "      <td>0</td>\n",
       "      <td>0</td>\n",
       "      <td>0</td>\n",
       "      <td>0</td>\n",
       "      <td>0</td>\n",
       "      <td>0</td>\n",
       "      <td>1</td>\n",
       "      <td>0</td>\n",
       "      <td>0</td>\n",
       "    </tr>\n",
       "  </tbody>\n",
       "</table>\n",
       "<p>5 rows × 94 columns</p>\n",
       "</div>"
      ],
      "text/plain": [
       "        item_id       user_id                 region              city  \\\n",
       "0  b912c3c6a6ad  e00f8ff2eaf9   Свердловская область      Екатеринбург   \n",
       "1  2dac0150717d  39aeb48f0017      Самарская область            Самара   \n",
       "2  ba83aefab5dc  91e2f88dd6e3     Ростовская область    Ростов-на-Дону   \n",
       "3  02996f1dd2ea  bf5cccea572d              Татарстан  Набережные Челны   \n",
       "4  7c90be56d2ab  ef50846afc0b  Волгоградская область         Волгоград   \n",
       "\n",
       "  parent_category_name               category_name  \\\n",
       "0          Личные вещи  Товары для детей и игрушки   \n",
       "1      Для дома и дачи           Мебель и интерьер   \n",
       "2  Бытовая электроника               Аудио и видео   \n",
       "3          Личные вещи  Товары для детей и игрушки   \n",
       "4            Транспорт                  Автомобили   \n",
       "\n",
       "                       param_1     param_2 param_3                  title  \\\n",
       "0    Постельные принадлежности         NaN     NaN  Кокоби(кокон для сна)   \n",
       "1                       Другое         NaN     NaN      Стойка для Одежды   \n",
       "2  Видео, DVD и Blu-ray плееры         NaN     NaN         Philips bluray   \n",
       "3         Автомобильные кресла         NaN     NaN             Автокресло   \n",
       "4                   С пробегом  ВАЗ (LADA)    2110         ВАЗ 2110, 2003   \n",
       "\n",
       "          ...         category_int_encoding  parent_category__0  \\\n",
       "0         ...                             4                   0   \n",
       "1         ...                             2                   0   \n",
       "2         ...                             0                   1   \n",
       "3         ...                             4                   0   \n",
       "4         ...                             6                   0   \n",
       "\n",
       "   parent_category__1 parent_category__2 parent_category__3  \\\n",
       "0                   0                  0                  0   \n",
       "1                   0                  1                  0   \n",
       "2                   0                  0                  0   \n",
       "3                   0                  0                  0   \n",
       "4                   0                  0                  0   \n",
       "\n",
       "  parent_category__4  parent_category__5  parent_category__6  \\\n",
       "0                  1                   0                   0   \n",
       "1                  0                   0                   0   \n",
       "2                  0                   0                   0   \n",
       "3                  1                   0                   0   \n",
       "4                  0                   0                   1   \n",
       "\n",
       "   parent_category__7  parent_category__8  \n",
       "0                   0                   0  \n",
       "1                   0                   0  \n",
       "2                   0                   0  \n",
       "3                   0                   0  \n",
       "4                   0                   0  \n",
       "\n",
       "[5 rows x 94 columns]"
      ]
     },
     "execution_count": 329,
     "metadata": {},
     "output_type": "execute_result"
    }
   ],
   "source": [
    "train.head()"
   ]
  },
  {
   "cell_type": "markdown",
   "metadata": {},
   "source": [
    "Now, to the user type"
   ]
  },
  {
   "cell_type": "code",
   "execution_count": 26,
   "metadata": {},
   "outputs": [],
   "source": [
    "user_type_enc = LabelEncoder()"
   ]
  },
  {
   "cell_type": "code",
   "execution_count": 27,
   "metadata": {},
   "outputs": [
    {
     "data": {
      "text/plain": [
       "LabelEncoder()"
      ]
     },
     "execution_count": 27,
     "metadata": {},
     "output_type": "execute_result"
    }
   ],
   "source": [
    "user_type_enc.fit(np.append(test.user_type, train.user_type))"
   ]
  },
  {
   "cell_type": "code",
   "execution_count": 28,
   "metadata": {},
   "outputs": [],
   "source": [
    "train['user_type_enc'] = user_type_enc.transform(train.user_type)"
   ]
  },
  {
   "cell_type": "code",
   "execution_count": 29,
   "metadata": {},
   "outputs": [],
   "source": [
    "train = train.join(pd.get_dummies(train.user_type_enc, prefix = \"user_type_\"))"
   ]
  },
  {
   "cell_type": "code",
   "execution_count": 30,
   "metadata": {},
   "outputs": [],
   "source": [
    "test['user_type_enc'] = user_type_enc.transform(test.user_type)"
   ]
  },
  {
   "cell_type": "code",
   "execution_count": 31,
   "metadata": {},
   "outputs": [],
   "source": [
    "test = test.join(pd.get_dummies(test.user_type_enc, prefix = \"user_type_\"))"
   ]
  },
  {
   "cell_type": "markdown",
   "metadata": {},
   "source": [
    "And now, region:"
   ]
  },
  {
   "cell_type": "code",
   "execution_count": 32,
   "metadata": {},
   "outputs": [],
   "source": [
    "region_enc = LabelEncoder()"
   ]
  },
  {
   "cell_type": "code",
   "execution_count": 33,
   "metadata": {},
   "outputs": [
    {
     "data": {
      "text/plain": [
       "LabelEncoder()"
      ]
     },
     "execution_count": 33,
     "metadata": {},
     "output_type": "execute_result"
    }
   ],
   "source": [
    "region_enc.fit(np.append(train.region, test.region))"
   ]
  },
  {
   "cell_type": "code",
   "execution_count": 34,
   "metadata": {},
   "outputs": [
    {
     "name": "stderr",
     "output_type": "stream",
     "text": [
      "/usr/local/lib/python3.6/site-packages/ipykernel_launcher.py:1: UserWarning: Pandas doesn't allow columns to be created via a new attribute name - see https://pandas.pydata.org/pandas-docs/stable/indexing.html#attribute-access\n",
      "  \"\"\"Entry point for launching an IPython kernel.\n"
     ]
    }
   ],
   "source": [
    "train.region_int_enc = region_enc.transform(train.region)"
   ]
  },
  {
   "cell_type": "code",
   "execution_count": 35,
   "metadata": {
    "scrolled": false
   },
   "outputs": [],
   "source": [
    "train = train.join(pd.get_dummies(train.region_int_enc, prefix = \"region_\"))"
   ]
  },
  {
   "cell_type": "code",
   "execution_count": 36,
   "metadata": {},
   "outputs": [
    {
     "name": "stderr",
     "output_type": "stream",
     "text": [
      "/usr/local/lib/python3.6/site-packages/ipykernel_launcher.py:1: UserWarning: Pandas doesn't allow columns to be created via a new attribute name - see https://pandas.pydata.org/pandas-docs/stable/indexing.html#attribute-access\n",
      "  \"\"\"Entry point for launching an IPython kernel.\n"
     ]
    }
   ],
   "source": [
    "test.region_int_enc = region_enc.transform(test.region)"
   ]
  },
  {
   "cell_type": "code",
   "execution_count": 37,
   "metadata": {},
   "outputs": [],
   "source": [
    "test = test.join(pd.get_dummies(test.region_int_enc, prefix = \"region_\"))"
   ]
  },
  {
   "cell_type": "markdown",
   "metadata": {},
   "source": [
    "## 3. Fill missing columns\n",
    "\n",
    "Now we'll have to fill in the missing values in the numeric columns we'd like to use. Since I plan on using ensemble trees methods, I'll just put in characters outside the ranges of these columns; tree algorithms can distinguish between legitimate values and these imputed values with one additional split per feature. "
   ]
  },
  {
   "cell_type": "code",
   "execution_count": 348,
   "metadata": {
    "scrolled": false
   },
   "outputs": [
    {
     "name": "stdout",
     "output_type": "stream",
     "text": [
      "item_id                                  0\n",
      "user_id                                  0\n",
      "region                                   0\n",
      "city                                     0\n",
      "parent_category_name                     0\n",
      "category_name                            0\n",
      "param_1                              61576\n",
      "param_2                             654542\n",
      "param_3                             862565\n",
      "title                                    0\n",
      "description                         116276\n",
      "price                                85362\n",
      "item_seq_number                          0\n",
      "activation_date                          0\n",
      "user_type                                0\n",
      "image                               112588\n",
      "image_top_1                         112588\n",
      "deal_probability                         0\n",
      "days_since_previous_appearence      771769\n",
      "days_since_previous_appearence2    1011788\n",
      "avg_appearences_per_day_prev       1347320\n",
      "daily_ad_number                          0\n",
      "daily_ad_number_category                 0\n",
      "city_frequency                           0\n",
      "title_word_count                         0\n",
      "title_character_count                    0\n",
      "description_word_count_log          116276\n",
      "description_character_count_log     116276\n",
      "description_missing                      0\n",
      "price_mising                             0\n",
      "image_missing                            0\n",
      "param_1_missing                          0\n",
      "param_2_missing                          0\n",
      "param_3_missing                          0\n",
      "param_1_freq                             0\n",
      "param_2_freq                             0\n",
      "param_3_freq                             0\n",
      "prob_group                               0\n",
      "contains_сниму                           0\n",
      "contains_комбинезон                      0\n",
      "contains_авто                            0\n",
      "contains_услуги                          0\n",
      "contains_м²                              0\n",
      "contains_коляска                         0\n",
      "contains_м²_эт                           0\n",
      "contains_участок_сот                     0\n",
      "contains_ремонт                          0\n",
      "contains_аренду                          0\n",
      "contains_пальто                          0\n",
      "contains_установка                       0\n",
      "contains_мастер                          0\n",
      "contains_костюм                          0\n",
      "contains_велосипед                       0\n",
      "contains_репетитор                       0\n",
      "contains_газель                          0\n",
      "contains_участке                         0\n",
      "contains_аренда                          0\n",
      "contains_диван                           0\n",
      "contains_эт_квартира                     0\n",
      "contains_грузоперевозки                  0\n",
      "contains_сот_ижс                         0\n",
      "contains_наращивание                     0\n",
      "contains_работы                          0\n",
      "contains_ботинки                         0\n",
      "contains_квартира                        0\n",
      "contains_детский                         0\n",
      "contains_участке_сот                     0\n",
      "contains_туфли                           0\n",
      "contains_платье                          0\n",
      "contains_сот                             0\n",
      "contains_новые                           0\n",
      "contains_samsung                         0\n",
      "contains_квартир                         0\n",
      "contains_iphone                          0\n",
      "contains_куртка                          0\n",
      "contains_ваз                             0\n",
      "contains_участок                         0\n",
      "contains_квартира_м²                     0\n",
      "contains_сапоги                          0\n",
      "contains_ижс                             0\n",
      "contains_м²_участке                      0\n",
      "contains_строительство                   0\n",
      "contains_продам                          0\n",
      "contains_грузчики                        0\n",
      "category_int_encoding                    0\n",
      "parent_category__0                       0\n",
      "parent_category__1                       0\n",
      "parent_category__2                       0\n",
      "parent_category__3                       0\n",
      "parent_category__4                       0\n",
      "parent_category__5                       0\n",
      "parent_category__6                       0\n",
      "parent_category__7                       0\n",
      "parent_category__8                       0\n",
      "user_type_enc                            0\n",
      "user_type__0                             0\n",
      "user_type__1                             0\n",
      "user_type__2                             0\n",
      "region__0                                0\n",
      "region__1                                0\n",
      "region__2                                0\n",
      "region__3                                0\n",
      "region__4                                0\n",
      "region__5                                0\n",
      "region__6                                0\n",
      "region__7                                0\n",
      "region__8                                0\n",
      "region__9                                0\n",
      "region__10                               0\n",
      "region__11                               0\n",
      "region__12                               0\n",
      "region__13                               0\n",
      "region__14                               0\n",
      "region__15                               0\n",
      "region__16                               0\n",
      "region__17                               0\n",
      "region__18                               0\n",
      "region__19                               0\n",
      "region__20                               0\n",
      "region__21                               0\n",
      "region__22                               0\n",
      "region__23                               0\n",
      "region__24                               0\n",
      "region__25                               0\n",
      "region__26                               0\n",
      "region__27                               0\n",
      "dtype: int64\n"
     ]
    }
   ],
   "source": [
    "with pd.option_context('display.max_rows', None, 'display.max_columns', 3):\n",
    "    print(train.isnull().sum(axis=0))"
   ]
  },
  {
   "cell_type": "markdown",
   "metadata": {},
   "source": [
    "First, starting with price"
   ]
  },
  {
   "cell_type": "code",
   "execution_count": 351,
   "metadata": {},
   "outputs": [
    {
     "data": {
      "text/plain": [
       "<matplotlib.axes._subplots.AxesSubplot at 0x20a9504a8>"
      ]
     },
     "execution_count": 351,
     "metadata": {},
     "output_type": "execute_result"
    },
    {
     "data": {
      "image/png": "[encoded data removed]",
      "text/plain": [
       "<Figure size 432x288 with 1 Axes>"
      ]
     },
     "metadata": {},
     "output_type": "display_data"
    }
   ],
   "source": [
    "train.price.hist()"
   ]
  },
  {
   "cell_type": "markdown",
   "metadata": {},
   "source": [
    "If I impute the price with something negative, it will be out of the range. "
   ]
  },
  {
   "cell_type": "code",
   "execution_count": 38,
   "metadata": {},
   "outputs": [],
   "source": [
    "train.price = train.price.fillna(-999)"
   ]
  },
  {
   "cell_type": "code",
   "execution_count": 39,
   "metadata": {},
   "outputs": [],
   "source": [
    "test.price = test.price.fillna(-999)"
   ]
  },
  {
   "cell_type": "code",
   "execution_count": 364,
   "metadata": {},
   "outputs": [
    {
     "data": {
      "text/plain": [
       "<matplotlib.axes._subplots.AxesSubplot at 0x201c6ba90>"
      ]
     },
     "execution_count": 364,
     "metadata": {},
     "output_type": "execute_result"
    },
    {
     "data": {
      "image/png": "[encoded data removed]",
      "text/plain": [
       "<Figure size 432x288 with 1 Axes>"
      ]
     },
     "metadata": {},
     "output_type": "display_data"
    }
   ],
   "source": [
    "test.days_since_previous_appearence.hist()"
   ]
  },
  {
   "cell_type": "markdown",
   "metadata": {},
   "source": [
    "Some noisy values (bugs) lead to 13 negative values for this feature. If I fill in the missing values with -100, though, it will be out of range. "
   ]
  },
  {
   "cell_type": "code",
   "execution_count": 40,
   "metadata": {},
   "outputs": [],
   "source": [
    "train.days_since_previous_appearence = train.days_since_previous_appearence.fillna(-100)"
   ]
  },
  {
   "cell_type": "code",
   "execution_count": 41,
   "metadata": {},
   "outputs": [],
   "source": [
    "test.days_since_previous_appearence = test.days_since_previous_appearence.fillna(-100)"
   ]
  },
  {
   "cell_type": "code",
   "execution_count": 42,
   "metadata": {},
   "outputs": [
    {
     "data": {
      "text/plain": [
       "<matplotlib.axes._subplots.AxesSubplot at 0x155624a90>"
      ]
     },
     "execution_count": 42,
     "metadata": {},
     "output_type": "execute_result"
    },
    {
     "data": {
      "image/png": "[encoded data removed]",
      "text/plain": [
       "<Figure size 432x288 with 1 Axes>"
      ]
     },
     "metadata": {},
     "output_type": "display_data"
    }
   ],
   "source": [
    "train.days_since_previous_appearence2.hist()"
   ]
  },
  {
   "cell_type": "code",
   "execution_count": 367,
   "metadata": {},
   "outputs": [
    {
     "data": {
      "text/plain": [
       "<matplotlib.axes._subplots.AxesSubplot at 0x1ae75a438>"
      ]
     },
     "execution_count": 367,
     "metadata": {},
     "output_type": "execute_result"
    },
    {
     "data": {
      "image/png": "[encoded data removed]",
      "text/plain": [
       "<Figure size 432x288 with 1 Axes>"
      ]
     },
     "metadata": {},
     "output_type": "display_data"
    }
   ],
   "source": [
    "test.days_since_previous_appearence2.hist()"
   ]
  },
  {
   "cell_type": "markdown",
   "metadata": {},
   "source": [
    "Same deal with `days_since_previous_appearence2.hist()`"
   ]
  },
  {
   "cell_type": "code",
   "execution_count": 43,
   "metadata": {},
   "outputs": [],
   "source": [
    "train.days_since_previous_appearence2 = train.days_since_previous_appearence2.fillna(-100)"
   ]
  },
  {
   "cell_type": "code",
   "execution_count": 44,
   "metadata": {},
   "outputs": [],
   "source": [
    "test.days_since_previous_appearence2 = test.days_since_previous_appearence2.fillna(-100)"
   ]
  },
  {
   "cell_type": "markdown",
   "metadata": {},
   "source": [
    "Now, `avg_appearences_per_day_prev`:"
   ]
  },
  {
   "cell_type": "code",
   "execution_count": 373,
   "metadata": {},
   "outputs": [
    {
     "data": {
      "text/plain": [
       "<matplotlib.axes._subplots.AxesSubplot at 0x1fdab5470>"
      ]
     },
     "execution_count": 373,
     "metadata": {},
     "output_type": "execute_result"
    },
    {
     "data": {
      "image/png": "[encoded data removed]",
      "text/plain": [
       "<Figure size 432x288 with 1 Axes>"
      ]
     },
     "metadata": {},
     "output_type": "display_data"
    }
   ],
   "source": [
    "train.avg_appearences_per_day_prev.hist()"
   ]
  },
  {
   "cell_type": "code",
   "execution_count": 375,
   "metadata": {},
   "outputs": [
    {
     "data": {
      "text/plain": [
       "<matplotlib.axes._subplots.AxesSubplot at 0x203f864e0>"
      ]
     },
     "execution_count": 375,
     "metadata": {},
     "output_type": "execute_result"
    },
    {
     "data": {
      "image/png": "[encoded data removed]",
      "text/plain": [
       "<Figure size 432x288 with 1 Axes>"
      ]
     },
     "metadata": {},
     "output_type": "display_data"
    }
   ],
   "source": [
    "test.avg_appearences_per_day_prev.hist()"
   ]
  },
  {
   "cell_type": "markdown",
   "metadata": {},
   "source": [
    "Any negative value will do. "
   ]
  },
  {
   "cell_type": "code",
   "execution_count": 45,
   "metadata": {},
   "outputs": [],
   "source": [
    "train.avg_appearences_per_day_prev = train.avg_appearences_per_day_prev.fillna(-10)"
   ]
  },
  {
   "cell_type": "code",
   "execution_count": 46,
   "metadata": {},
   "outputs": [],
   "source": [
    "test.avg_appearences_per_day_prev = test.avg_appearences_per_day_prev.fillna(-10)"
   ]
  },
  {
   "cell_type": "markdown",
   "metadata": {},
   "source": [
    "`image_top_1`:"
   ]
  },
  {
   "cell_type": "code",
   "execution_count": 378,
   "metadata": {},
   "outputs": [
    {
     "data": {
      "text/plain": [
       "<matplotlib.axes._subplots.AxesSubplot at 0x2038409e8>"
      ]
     },
     "execution_count": 378,
     "metadata": {},
     "output_type": "execute_result"
    },
    {
     "data": {
      "image/png": "[encoded data removed]",
      "text/plain": [
       "<Figure size 432x288 with 1 Axes>"
      ]
     },
     "metadata": {},
     "output_type": "display_data"
    }
   ],
   "source": [
    "train.image_top_1.hist()"
   ]
  },
  {
   "cell_type": "code",
   "execution_count": 379,
   "metadata": {},
   "outputs": [
    {
     "data": {
      "text/plain": [
       "<matplotlib.axes._subplots.AxesSubplot at 0x203f82cf8>"
      ]
     },
     "execution_count": 379,
     "metadata": {},
     "output_type": "execute_result"
    },
    {
     "data": {
      "image/png": "[encoded data removed]",
      "text/plain": [
       "<Figure size 432x288 with 1 Axes>"
      ]
     },
     "metadata": {},
     "output_type": "display_data"
    }
   ],
   "source": [
    "test.image_top_1.hist()"
   ]
  },
  {
   "cell_type": "markdown",
   "metadata": {},
   "source": [
    "Any negative value will do."
   ]
  },
  {
   "cell_type": "code",
   "execution_count": 47,
   "metadata": {},
   "outputs": [],
   "source": [
    "train.image_top_1 = train.image_top_1.fillna(-999)"
   ]
  },
  {
   "cell_type": "code",
   "execution_count": 48,
   "metadata": {},
   "outputs": [],
   "source": [
    "test.image_top_1 = test.image_top_1.fillna(-999)"
   ]
  },
  {
   "cell_type": "markdown",
   "metadata": {},
   "source": [
    "`description_word_count_log` and `description_character_count_log`"
   ]
  },
  {
   "cell_type": "code",
   "execution_count": 386,
   "metadata": {},
   "outputs": [
    {
     "data": {
      "text/plain": [
       "<matplotlib.axes._subplots.AxesSubplot at 0x1fdfd5940>"
      ]
     },
     "execution_count": 386,
     "metadata": {},
     "output_type": "execute_result"
    },
    {
     "data": {
      "image/png": "[encoded data removed]",
      "text/plain": [
       "<Figure size 432x288 with 1 Axes>"
      ]
     },
     "metadata": {},
     "output_type": "display_data"
    }
   ],
   "source": [
    "train.description_word_count_log.hist()"
   ]
  },
  {
   "cell_type": "code",
   "execution_count": 387,
   "metadata": {},
   "outputs": [
    {
     "data": {
      "text/plain": [
       "<matplotlib.axes._subplots.AxesSubplot at 0x1fe2764a8>"
      ]
     },
     "execution_count": 387,
     "metadata": {},
     "output_type": "execute_result"
    },
    {
     "data": {
      "image/png": "[encoded data removed]",
      "text/plain": [
       "<Figure size 432x288 with 1 Axes>"
      ]
     },
     "metadata": {},
     "output_type": "display_data"
    }
   ],
   "source": [
    "test.description_word_count_log.hist()"
   ]
  },
  {
   "cell_type": "code",
   "execution_count": 49,
   "metadata": {},
   "outputs": [],
   "source": [
    "train.description_word_count_log = train.description_word_count_log.fillna(-999)"
   ]
  },
  {
   "cell_type": "code",
   "execution_count": 50,
   "metadata": {},
   "outputs": [],
   "source": [
    "test.description_word_count_log = test.description_word_count_log.fillna(-999)"
   ]
  },
  {
   "cell_type": "code",
   "execution_count": 390,
   "metadata": {},
   "outputs": [
    {
     "data": {
      "text/plain": [
       "<matplotlib.axes._subplots.AxesSubplot at 0x202fbc7f0>"
      ]
     },
     "execution_count": 390,
     "metadata": {},
     "output_type": "execute_result"
    },
    {
     "data": {
      "image/png": "[encoded data removed]",
      "text/plain": [
       "<Figure size 432x288 with 1 Axes>"
      ]
     },
     "metadata": {},
     "output_type": "display_data"
    }
   ],
   "source": [
    "train.description_character_count_log.hist()"
   ]
  },
  {
   "cell_type": "code",
   "execution_count": 391,
   "metadata": {},
   "outputs": [
    {
     "data": {
      "text/plain": [
       "<matplotlib.axes._subplots.AxesSubplot at 0x20305bc50>"
      ]
     },
     "execution_count": 391,
     "metadata": {},
     "output_type": "execute_result"
    },
    {
     "data": {
      "image/png": "[encoded data removed]",
      "text/plain": [
       "<Figure size 432x288 with 1 Axes>"
      ]
     },
     "metadata": {},
     "output_type": "display_data"
    }
   ],
   "source": [
    "test.description_character_count_log.hist()"
   ]
  },
  {
   "cell_type": "code",
   "execution_count": 51,
   "metadata": {},
   "outputs": [],
   "source": [
    "train.description_character_count_log = train.description_character_count_log.fillna(-999)"
   ]
  },
  {
   "cell_type": "code",
   "execution_count": 52,
   "metadata": {},
   "outputs": [],
   "source": [
    "test.description_character_count_log = test.description_character_count_log.fillna(-999)"
   ]
  },
  {
   "cell_type": "markdown",
   "metadata": {},
   "source": [
    "## 4. Save data"
   ]
  },
  {
   "cell_type": "markdown",
   "metadata": {},
   "source": [
    "Now that we have our first set of basic features, I'll save then as numpy binary arrays, so that I can train them elsewhere. "
   ]
  },
  {
   "cell_type": "code",
   "execution_count": 398,
   "metadata": {},
   "outputs": [],
   "source": [
    "mkdir ../data/first_features"
   ]
  },
  {
   "cell_type": "code",
   "execution_count": 53,
   "metadata": {
    "scrolled": false
   },
   "outputs": [],
   "source": [
    "traincols = list(train.columns)"
   ]
  },
  {
   "cell_type": "code",
   "execution_count": 54,
   "metadata": {},
   "outputs": [],
   "source": [
    "for col in [\"item_id\", \"user_id\", \"region\", \n",
    "           \"city\", \"parent_category_name\", \"category_name\", \n",
    "           \"param_1\", \"param_2\", \"param_3\",\n",
    "           \"title\", \"description\", \"activation_date\", \"image\", \n",
    "           \"deal_probability\", \"prob_group\", \"category_int_encoding\",\n",
    "           \"user_type_enc\", \"user_type\"]:\n",
    "    traincols.remove(col)"
   ]
  },
  {
   "cell_type": "code",
   "execution_count": 71,
   "metadata": {},
   "outputs": [],
   "source": [
    "np.save(\"../data/first_features/X.npy\", train[traincols].values)"
   ]
  },
  {
   "cell_type": "code",
   "execution_count": 72,
   "metadata": {
    "scrolled": true
   },
   "outputs": [],
   "source": [
    "np.save(\"../data/first_features/X_test.npy\", test[traincols].values)"
   ]
  },
  {
   "cell_type": "code",
   "execution_count": null,
   "metadata": {},
   "outputs": [],
   "source": [
    "np.save(\"../data/first_features/y.npy\", train['deal_probability'])"
   ]
  },
  {
   "cell_type": "code",
   "execution_count": 61,
   "metadata": {},
   "outputs": [],
   "source": [
    "with open(\"../data/first_features/colnames.pkl\", \"wb\") as handle:\n",
    "    pickle.dump(traincols,handle)"
   ]
  }
 ],
 "metadata": {
  "kernelspec": {
   "display_name": "Python 3",
   "language": "python",
   "name": "python3"
  },
  "language_info": {
   "codemirror_mode": {
    "name": "ipython",
    "version": 3
   },
   "file_extension": ".py",
   "mimetype": "text/x-python",
   "name": "python",
   "nbconvert_exporter": "python",
   "pygments_lexer": "ipython3",
   "version": "3.6.4"
  }
 },
 "nbformat": 4,
 "nbformat_minor": 2
}
