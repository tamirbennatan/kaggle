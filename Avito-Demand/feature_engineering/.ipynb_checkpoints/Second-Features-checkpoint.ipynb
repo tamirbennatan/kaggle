{
 "cells": [
  {
   "cell_type": "code",
   "execution_count": 401,
   "metadata": {},
   "outputs": [],
   "source": [
    "import pandas as pd\n",
    "import numpy as np\n",
    "from nltk.corpus import stopwords\n",
    "stops = set(stopwords.words('russian'))\n",
    "import string\n",
    "punctuation = string.punctuation + '–'\n",
    "import re\n",
    "\n",
    "import pickle\n",
    "\n",
    "from sklearn.feature_extraction.text import TfidfVectorizer\n",
    "from sklearn.preprocessing import LabelEncoder\n",
    "from sklearn.decomposition import TruncatedSVD\n",
    "\n",
    "import matplotlib.pyplot as plt\n",
    "%matplotlib inline\n",
    "import seaborn as sns"
   ]
  },
  {
   "cell_type": "markdown",
   "metadata": {},
   "source": [
    "## 0. Load data\n",
    "\n",
    "This data was lighly processed in the Rmarkdown notebook `Basic-Features.Rmd`. "
   ]
  },
  {
   "cell_type": "code",
   "execution_count": 253,
   "metadata": {},
   "outputs": [],
   "source": [
    "train = pd.read_csv(\"../data/basic_features/train.csv\")\n",
    "test = pd.read_csv(\"../data/basic_features/test.csv\")"
   ]
  },
  {
   "cell_type": "code",
   "execution_count": 254,
   "metadata": {},
   "outputs": [
    {
     "data": {
      "text/html": [
       "<div>\n",
       "<style scoped>\n",
       "    .dataframe tbody tr th:only-of-type {\n",
       "        vertical-align: middle;\n",
       "    }\n",
       "\n",
       "    .dataframe tbody tr th {\n",
       "        vertical-align: top;\n",
       "    }\n",
       "\n",
       "    .dataframe thead th {\n",
       "        text-align: right;\n",
       "    }\n",
       "</style>\n",
       "<table border=\"1\" class=\"dataframe\">\n",
       "  <thead>\n",
       "    <tr style=\"text-align: right;\">\n",
       "      <th></th>\n",
       "      <th>item_id</th>\n",
       "      <th>user_id</th>\n",
       "      <th>region</th>\n",
       "      <th>city</th>\n",
       "      <th>parent_category_name</th>\n",
       "      <th>category_name</th>\n",
       "      <th>param_1</th>\n",
       "      <th>param_2</th>\n",
       "      <th>param_3</th>\n",
       "      <th>title</th>\n",
       "      <th>...</th>\n",
       "      <th>description_character_count_log</th>\n",
       "      <th>description_missing</th>\n",
       "      <th>price_mising</th>\n",
       "      <th>image_missing</th>\n",
       "      <th>param_1_missing</th>\n",
       "      <th>param_2_missing</th>\n",
       "      <th>param_3_missing</th>\n",
       "      <th>param_1_freq</th>\n",
       "      <th>param_2_freq</th>\n",
       "      <th>param_3_freq</th>\n",
       "    </tr>\n",
       "  </thead>\n",
       "  <tbody>\n",
       "    <tr>\n",
       "      <th>0</th>\n",
       "      <td>b912c3c6a6ad</td>\n",
       "      <td>e00f8ff2eaf9</td>\n",
       "      <td>Свердловская область</td>\n",
       "      <td>Екатеринбург</td>\n",
       "      <td>Личные вещи</td>\n",
       "      <td>Товары для детей и игрушки</td>\n",
       "      <td>Постельные принадлежности</td>\n",
       "      <td>NaN</td>\n",
       "      <td>NaN</td>\n",
       "      <td>Кокоби(кокон для сна)</td>\n",
       "      <td>...</td>\n",
       "      <td>4.077537</td>\n",
       "      <td>False</td>\n",
       "      <td>False</td>\n",
       "      <td>False</td>\n",
       "      <td>False</td>\n",
       "      <td>True</td>\n",
       "      <td>True</td>\n",
       "      <td>0.004292</td>\n",
       "      <td>0.441268</td>\n",
       "      <td>0.581002</td>\n",
       "    </tr>\n",
       "    <tr>\n",
       "      <th>1</th>\n",
       "      <td>2dac0150717d</td>\n",
       "      <td>39aeb48f0017</td>\n",
       "      <td>Самарская область</td>\n",
       "      <td>Самара</td>\n",
       "      <td>Для дома и дачи</td>\n",
       "      <td>Мебель и интерьер</td>\n",
       "      <td>Другое</td>\n",
       "      <td>NaN</td>\n",
       "      <td>NaN</td>\n",
       "      <td>Стойка для Одежды</td>\n",
       "      <td>...</td>\n",
       "      <td>3.737670</td>\n",
       "      <td>False</td>\n",
       "      <td>False</td>\n",
       "      <td>False</td>\n",
       "      <td>False</td>\n",
       "      <td>True</td>\n",
       "      <td>True</td>\n",
       "      <td>0.018966</td>\n",
       "      <td>0.441268</td>\n",
       "      <td>0.581002</td>\n",
       "    </tr>\n",
       "    <tr>\n",
       "      <th>2</th>\n",
       "      <td>ba83aefab5dc</td>\n",
       "      <td>91e2f88dd6e3</td>\n",
       "      <td>Ростовская область</td>\n",
       "      <td>Ростов-на-Дону</td>\n",
       "      <td>Бытовая электроника</td>\n",
       "      <td>Аудио и видео</td>\n",
       "      <td>Видео, DVD и Blu-ray плееры</td>\n",
       "      <td>NaN</td>\n",
       "      <td>NaN</td>\n",
       "      <td>Philips bluray</td>\n",
       "      <td>...</td>\n",
       "      <td>4.605170</td>\n",
       "      <td>False</td>\n",
       "      <td>False</td>\n",
       "      <td>False</td>\n",
       "      <td>False</td>\n",
       "      <td>True</td>\n",
       "      <td>True</td>\n",
       "      <td>0.001430</td>\n",
       "      <td>0.441268</td>\n",
       "      <td>0.581002</td>\n",
       "    </tr>\n",
       "    <tr>\n",
       "      <th>3</th>\n",
       "      <td>02996f1dd2ea</td>\n",
       "      <td>bf5cccea572d</td>\n",
       "      <td>Татарстан</td>\n",
       "      <td>Набережные Челны</td>\n",
       "      <td>Личные вещи</td>\n",
       "      <td>Товары для детей и игрушки</td>\n",
       "      <td>Автомобильные кресла</td>\n",
       "      <td>NaN</td>\n",
       "      <td>NaN</td>\n",
       "      <td>Автокресло</td>\n",
       "      <td>...</td>\n",
       "      <td>3.135494</td>\n",
       "      <td>False</td>\n",
       "      <td>False</td>\n",
       "      <td>False</td>\n",
       "      <td>False</td>\n",
       "      <td>True</td>\n",
       "      <td>True</td>\n",
       "      <td>0.003416</td>\n",
       "      <td>0.441268</td>\n",
       "      <td>0.581002</td>\n",
       "    </tr>\n",
       "    <tr>\n",
       "      <th>4</th>\n",
       "      <td>7c90be56d2ab</td>\n",
       "      <td>ef50846afc0b</td>\n",
       "      <td>Волгоградская область</td>\n",
       "      <td>Волгоград</td>\n",
       "      <td>Транспорт</td>\n",
       "      <td>Автомобили</td>\n",
       "      <td>С пробегом</td>\n",
       "      <td>ВАЗ (LADA)</td>\n",
       "      <td>2110</td>\n",
       "      <td>ВАЗ 2110, 2003</td>\n",
       "      <td>...</td>\n",
       "      <td>3.218876</td>\n",
       "      <td>False</td>\n",
       "      <td>False</td>\n",
       "      <td>False</td>\n",
       "      <td>False</td>\n",
       "      <td>False</td>\n",
       "      <td>False</td>\n",
       "      <td>0.041317</td>\n",
       "      <td>0.013153</td>\n",
       "      <td>0.001273</td>\n",
       "    </tr>\n",
       "  </tbody>\n",
       "</table>\n",
       "<p>5 rows × 37 columns</p>\n",
       "</div>"
      ],
      "text/plain": [
       "        item_id       user_id                 region              city  \\\n",
       "0  b912c3c6a6ad  e00f8ff2eaf9   Свердловская область      Екатеринбург   \n",
       "1  2dac0150717d  39aeb48f0017      Самарская область            Самара   \n",
       "2  ba83aefab5dc  91e2f88dd6e3     Ростовская область    Ростов-на-Дону   \n",
       "3  02996f1dd2ea  bf5cccea572d              Татарстан  Набережные Челны   \n",
       "4  7c90be56d2ab  ef50846afc0b  Волгоградская область         Волгоград   \n",
       "\n",
       "  parent_category_name               category_name  \\\n",
       "0          Личные вещи  Товары для детей и игрушки   \n",
       "1      Для дома и дачи           Мебель и интерьер   \n",
       "2  Бытовая электроника               Аудио и видео   \n",
       "3          Личные вещи  Товары для детей и игрушки   \n",
       "4            Транспорт                  Автомобили   \n",
       "\n",
       "                       param_1     param_2 param_3                  title  \\\n",
       "0    Постельные принадлежности         NaN     NaN  Кокоби(кокон для сна)   \n",
       "1                       Другое         NaN     NaN      Стойка для Одежды   \n",
       "2  Видео, DVD и Blu-ray плееры         NaN     NaN         Philips bluray   \n",
       "3         Автомобильные кресла         NaN     NaN             Автокресло   \n",
       "4                   С пробегом  ВАЗ (LADA)    2110         ВАЗ 2110, 2003   \n",
       "\n",
       "       ...      description_character_count_log  description_missing  \\\n",
       "0      ...                             4.077537                False   \n",
       "1      ...                             3.737670                False   \n",
       "2      ...                             4.605170                False   \n",
       "3      ...                             3.135494                False   \n",
       "4      ...                             3.218876                False   \n",
       "\n",
       "   price_mising image_missing param_1_missing param_2_missing  \\\n",
       "0         False         False           False            True   \n",
       "1         False         False           False            True   \n",
       "2         False         False           False            True   \n",
       "3         False         False           False            True   \n",
       "4         False         False           False           False   \n",
       "\n",
       "   param_3_missing  param_1_freq  param_2_freq  param_3_freq  \n",
       "0             True      0.004292      0.441268      0.581002  \n",
       "1             True      0.018966      0.441268      0.581002  \n",
       "2             True      0.001430      0.441268      0.581002  \n",
       "3             True      0.003416      0.441268      0.581002  \n",
       "4            False      0.041317      0.013153      0.001273  \n",
       "\n",
       "[5 rows x 37 columns]"
      ]
     },
     "execution_count": 254,
     "metadata": {},
     "output_type": "execute_result"
    }
   ],
   "source": [
    "train.head()"
   ]
  },
  {
   "cell_type": "code",
   "execution_count": 255,
   "metadata": {
    "scrolled": true
   },
   "outputs": [
    {
     "data": {
      "text/html": [
       "<div>\n",
       "<style scoped>\n",
       "    .dataframe tbody tr th:only-of-type {\n",
       "        vertical-align: middle;\n",
       "    }\n",
       "\n",
       "    .dataframe tbody tr th {\n",
       "        vertical-align: top;\n",
       "    }\n",
       "\n",
       "    .dataframe thead th {\n",
       "        text-align: right;\n",
       "    }\n",
       "</style>\n",
       "<table border=\"1\" class=\"dataframe\">\n",
       "  <thead>\n",
       "    <tr style=\"text-align: right;\">\n",
       "      <th></th>\n",
       "      <th>item_id</th>\n",
       "      <th>user_id</th>\n",
       "      <th>region</th>\n",
       "      <th>city</th>\n",
       "      <th>parent_category_name</th>\n",
       "      <th>category_name</th>\n",
       "      <th>param_1</th>\n",
       "      <th>param_2</th>\n",
       "      <th>param_3</th>\n",
       "      <th>title</th>\n",
       "      <th>...</th>\n",
       "      <th>description_character_count_log</th>\n",
       "      <th>description_missing</th>\n",
       "      <th>price_mising</th>\n",
       "      <th>image_missing</th>\n",
       "      <th>param_1_missing</th>\n",
       "      <th>param_2_missing</th>\n",
       "      <th>param_3_missing</th>\n",
       "      <th>param_1_freq</th>\n",
       "      <th>param_2_freq</th>\n",
       "      <th>param_3_freq</th>\n",
       "    </tr>\n",
       "  </thead>\n",
       "  <tbody>\n",
       "    <tr>\n",
       "      <th>0</th>\n",
       "      <td>6544e41a8817</td>\n",
       "      <td>dbe73ad6e4b5</td>\n",
       "      <td>Волгоградская область</td>\n",
       "      <td>Волгоград</td>\n",
       "      <td>Личные вещи</td>\n",
       "      <td>Детская одежда и обувь</td>\n",
       "      <td>Для мальчиков</td>\n",
       "      <td>Обувь</td>\n",
       "      <td>25</td>\n",
       "      <td>Отдам бесплатно</td>\n",
       "      <td>...</td>\n",
       "      <td>2.564949</td>\n",
       "      <td>False</td>\n",
       "      <td>True</td>\n",
       "      <td>False</td>\n",
       "      <td>False</td>\n",
       "      <td>False</td>\n",
       "      <td>False</td>\n",
       "      <td>0.075915</td>\n",
       "      <td>0.099026</td>\n",
       "      <td>0.004463</td>\n",
       "    </tr>\n",
       "    <tr>\n",
       "      <th>1</th>\n",
       "      <td>65b9484d670f</td>\n",
       "      <td>2e11806abe57</td>\n",
       "      <td>Свердловская область</td>\n",
       "      <td>Нижняя Тура</td>\n",
       "      <td>Хобби и отдых</td>\n",
       "      <td>Велосипеды</td>\n",
       "      <td>Дорожные</td>\n",
       "      <td>NaN</td>\n",
       "      <td>NaN</td>\n",
       "      <td>Продам велосипед</td>\n",
       "      <td>...</td>\n",
       "      <td>4.488636</td>\n",
       "      <td>False</td>\n",
       "      <td>False</td>\n",
       "      <td>True</td>\n",
       "      <td>False</td>\n",
       "      <td>True</td>\n",
       "      <td>True</td>\n",
       "      <td>0.001253</td>\n",
       "      <td>0.441268</td>\n",
       "      <td>0.581002</td>\n",
       "    </tr>\n",
       "    <tr>\n",
       "      <th>2</th>\n",
       "      <td>8bab230b2ecd</td>\n",
       "      <td>0b850bbebb10</td>\n",
       "      <td>Новосибирская область</td>\n",
       "      <td>Бердск</td>\n",
       "      <td>Бытовая электроника</td>\n",
       "      <td>Аудио и видео</td>\n",
       "      <td>Телевизоры и проекторы</td>\n",
       "      <td>NaN</td>\n",
       "      <td>NaN</td>\n",
       "      <td>BBK</td>\n",
       "      <td>...</td>\n",
       "      <td>4.890349</td>\n",
       "      <td>False</td>\n",
       "      <td>False</td>\n",
       "      <td>False</td>\n",
       "      <td>False</td>\n",
       "      <td>True</td>\n",
       "      <td>True</td>\n",
       "      <td>0.005112</td>\n",
       "      <td>0.441268</td>\n",
       "      <td>0.581002</td>\n",
       "    </tr>\n",
       "    <tr>\n",
       "      <th>3</th>\n",
       "      <td>8e348601fefc</td>\n",
       "      <td>5f1d5c3ce0da</td>\n",
       "      <td>Саратовская область</td>\n",
       "      <td>Саратов</td>\n",
       "      <td>Для дома и дачи</td>\n",
       "      <td>Бытовая техника</td>\n",
       "      <td>Для кухни</td>\n",
       "      <td>Вытяжки</td>\n",
       "      <td>NaN</td>\n",
       "      <td>Вытяжка Jetair 60</td>\n",
       "      <td>...</td>\n",
       "      <td>4.543295</td>\n",
       "      <td>False</td>\n",
       "      <td>False</td>\n",
       "      <td>True</td>\n",
       "      <td>False</td>\n",
       "      <td>False</td>\n",
       "      <td>True</td>\n",
       "      <td>0.010668</td>\n",
       "      <td>0.000281</td>\n",
       "      <td>0.581002</td>\n",
       "    </tr>\n",
       "    <tr>\n",
       "      <th>4</th>\n",
       "      <td>8bd2fe400b89</td>\n",
       "      <td>23e2d97bfc7f</td>\n",
       "      <td>Оренбургская область</td>\n",
       "      <td>Бузулук</td>\n",
       "      <td>Личные вещи</td>\n",
       "      <td>Товары для детей и игрушки</td>\n",
       "      <td>Детские коляски</td>\n",
       "      <td>NaN</td>\n",
       "      <td>NaN</td>\n",
       "      <td>Коляска зима-лето</td>\n",
       "      <td>...</td>\n",
       "      <td>4.110874</td>\n",
       "      <td>False</td>\n",
       "      <td>False</td>\n",
       "      <td>False</td>\n",
       "      <td>False</td>\n",
       "      <td>True</td>\n",
       "      <td>True</td>\n",
       "      <td>0.017852</td>\n",
       "      <td>0.441268</td>\n",
       "      <td>0.581002</td>\n",
       "    </tr>\n",
       "  </tbody>\n",
       "</table>\n",
       "<p>5 rows × 36 columns</p>\n",
       "</div>"
      ],
      "text/plain": [
       "        item_id       user_id                 region         city  \\\n",
       "0  6544e41a8817  dbe73ad6e4b5  Волгоградская область    Волгоград   \n",
       "1  65b9484d670f  2e11806abe57   Свердловская область  Нижняя Тура   \n",
       "2  8bab230b2ecd  0b850bbebb10  Новосибирская область       Бердск   \n",
       "3  8e348601fefc  5f1d5c3ce0da    Саратовская область      Саратов   \n",
       "4  8bd2fe400b89  23e2d97bfc7f   Оренбургская область      Бузулук   \n",
       "\n",
       "  parent_category_name               category_name                 param_1  \\\n",
       "0          Личные вещи      Детская одежда и обувь           Для мальчиков   \n",
       "1        Хобби и отдых                  Велосипеды                Дорожные   \n",
       "2  Бытовая электроника               Аудио и видео  Телевизоры и проекторы   \n",
       "3      Для дома и дачи             Бытовая техника               Для кухни   \n",
       "4          Личные вещи  Товары для детей и игрушки         Детские коляски   \n",
       "\n",
       "   param_2 param_3              title      ...       \\\n",
       "0    Обувь      25    Отдам бесплатно      ...        \n",
       "1      NaN     NaN   Продам велосипед      ...        \n",
       "2      NaN     NaN                BBK      ...        \n",
       "3  Вытяжки     NaN  Вытяжка Jetair 60      ...        \n",
       "4      NaN     NaN  Коляска зима-лето      ...        \n",
       "\n",
       "  description_character_count_log  description_missing  price_mising  \\\n",
       "0                        2.564949                False          True   \n",
       "1                        4.488636                False         False   \n",
       "2                        4.890349                False         False   \n",
       "3                        4.543295                False         False   \n",
       "4                        4.110874                False         False   \n",
       "\n",
       "  image_missing param_1_missing param_2_missing  param_3_missing  \\\n",
       "0         False           False           False            False   \n",
       "1          True           False            True             True   \n",
       "2         False           False            True             True   \n",
       "3          True           False           False             True   \n",
       "4         False           False            True             True   \n",
       "\n",
       "   param_1_freq  param_2_freq  param_3_freq  \n",
       "0      0.075915      0.099026      0.004463  \n",
       "1      0.001253      0.441268      0.581002  \n",
       "2      0.005112      0.441268      0.581002  \n",
       "3      0.010668      0.000281      0.581002  \n",
       "4      0.017852      0.441268      0.581002  \n",
       "\n",
       "[5 rows x 36 columns]"
      ]
     },
     "execution_count": 255,
     "metadata": {},
     "output_type": "execute_result"
    }
   ],
   "source": [
    "test.head()"
   ]
  },
  {
   "cell_type": "markdown",
   "metadata": {},
   "source": [
    "## 1. More extensive character/word level features.\n",
    "\n",
    "In the first round of features, I extracted word counts and character counts. There is more to do here, however. "
   ]
  },
  {
   "cell_type": "markdown",
   "metadata": {},
   "source": [
    "First, however, I've noticed that there are no examples with missing descriptions in the test data. As such, features learned on the training data (which have missing descriptions) may not generalize to the test data.\n",
    "\n",
    "As such, I'll drop all the rows that have missing descriptions in the training data. **Note to self: This is a strong move. Come back and try not removing them!!!**"
   ]
  },
  {
   "cell_type": "code",
   "execution_count": 256,
   "metadata": {},
   "outputs": [
    {
     "data": {
      "text/plain": [
       "(1503424, 37)"
      ]
     },
     "execution_count": 256,
     "metadata": {},
     "output_type": "execute_result"
    }
   ],
   "source": [
    "train.shape"
   ]
  },
  {
   "cell_type": "code",
   "execution_count": 257,
   "metadata": {},
   "outputs": [],
   "source": [
    "# remove training examples with missing descriptions\n",
    "train = train.loc[np.logical_not(pd.isnull(train.description))]"
   ]
  },
  {
   "cell_type": "code",
   "execution_count": 258,
   "metadata": {},
   "outputs": [
    {
     "data": {
      "text/plain": [
       "(1387148, 37)"
      ]
     },
     "execution_count": 258,
     "metadata": {},
     "output_type": "execute_result"
    }
   ],
   "source": [
    "train.shape # dropped around 200,000 examples - ~15%. "
   ]
  },
  {
   "cell_type": "markdown",
   "metadata": {},
   "source": [
    "##### Number/proportion of non-alphanumeric characters in the title/description"
   ]
  },
  {
   "cell_type": "code",
   "execution_count": 259,
   "metadata": {},
   "outputs": [],
   "source": [
    "# number of non-alphanumeric characters in title\n",
    "train[\"num_nonalphanum_title\"] = train.title.apply(lambda x: len([c for c in x if c != \" \" and not c.isalnum()]))\n",
    "test[\"num_nonalphanum_title\"] = test.title.apply(lambda x: len([c for c in x if c != \" \" and not c.isalnum()]))"
   ]
  },
  {
   "cell_type": "code",
   "execution_count": 260,
   "metadata": {},
   "outputs": [],
   "source": [
    "# proportion of title that is non-alphanumeric\n",
    "train[\"prop_nonalphanum_title\"] = train.apply(lambda row: row[\"num_nonalphanum_title\"]/len(row.title), axis = 1)\n",
    "test[\"prop_nonalphanum_title\"] = test.apply(lambda row: row[\"num_nonalphanum_title\"]/len(row.title), axis = 1)"
   ]
  },
  {
   "cell_type": "code",
   "execution_count": 261,
   "metadata": {},
   "outputs": [],
   "source": [
    "def num_nonalphanum_chars(row,col):\n",
    "    return len([c for c in row[col] if c != \" \" and not c.isalnum()])"
   ]
  },
  {
   "cell_type": "code",
   "execution_count": 262,
   "metadata": {
    "scrolled": true
   },
   "outputs": [],
   "source": [
    "train[\"num_nonalphanum_desc\"] = train.apply(lambda row: num_nonalphanum_chars(row, \"description\"), axis = 1)\n",
    "test[\"num_nonalphanum_desc\"] = test.apply(lambda row: num_nonalphanum_chars(row, \"description\"), axis = 1)"
   ]
  },
  {
   "cell_type": "code",
   "execution_count": 263,
   "metadata": {},
   "outputs": [],
   "source": [
    "train[\"prop_nonalphanum_desc\"] = train.apply(lambda row: row.num_nonalphanum_desc / len(row.description), axis = 1)\n",
    "test[\"prop_nonalphanum_desc\"] = test.apply(lambda row: row.num_nonalphanum_desc / len(row.description), axis = 1)"
   ]
  },
  {
   "cell_type": "markdown",
   "metadata": {},
   "source": [
    "##### Number/proportion of numeric characthers in title/description"
   ]
  },
  {
   "cell_type": "code",
   "execution_count": 264,
   "metadata": {},
   "outputs": [],
   "source": [
    "test[\"num_numeric_title\"] = test.title.apply(lambda x: len([c for c in x if c.isnumeric()]))\n",
    "train[\"num_numeric_title\"] = train.title.apply(lambda x: len([c for c in x if c.isnumeric()]))"
   ]
  },
  {
   "cell_type": "code",
   "execution_count": 265,
   "metadata": {},
   "outputs": [],
   "source": [
    "train[\"prop_numeric_title\"] = train.apply(lambda row: row[\"num_numeric_title\"]/len(row[\"title\"]), axis = 1)\n",
    "test[\"prop_numeric_title\"] = test.apply(lambda row: row[\"num_numeric_title\"]/len(row[\"title\"]), axis = 1)"
   ]
  },
  {
   "cell_type": "code",
   "execution_count": 266,
   "metadata": {},
   "outputs": [],
   "source": [
    "# number of numeric characters in description\n",
    "test[\"num_numeric_desc\"] = test.description.apply(lambda x: len([c for c in x if c.isnumeric()]))\n",
    "train[\"num_numeric_desc\"] = train.description.apply(lambda x: len([c for c in x if c.isnumeric()]))"
   ]
  },
  {
   "cell_type": "code",
   "execution_count": 267,
   "metadata": {},
   "outputs": [],
   "source": [
    "# proportion of numeric characters in description\n",
    "train[\"prop_numeric_desc\"] = train.apply(lambda row: row[\"num_numeric_desc\"]/len(row[\"description\"]), axis = 1)\n",
    "test[\"prop_numeric_desc\"] = test.apply(lambda row: row[\"num_numeric_desc\"]/len(row[\"description\"]), axis = 1)"
   ]
  },
  {
   "cell_type": "markdown",
   "metadata": {},
   "source": [
    "##### Title word count"
   ]
  },
  {
   "cell_type": "code",
   "execution_count": 268,
   "metadata": {
    "scrolled": true
   },
   "outputs": [],
   "source": [
    "test[\"title_word_count\"] = test.title.apply(lambda x: len(x.split()))\n",
    "train[\"title_word_count\"] = train.title.apply(lambda x: len(x.split()))"
   ]
  },
  {
   "cell_type": "markdown",
   "metadata": {},
   "source": [
    "##### Number of **unique** words it title/description"
   ]
  },
  {
   "cell_type": "code",
   "execution_count": 269,
   "metadata": {},
   "outputs": [],
   "source": [
    "test[\"title_unique_word_count\"] = test.title.apply(lambda x: len(set(x.split())))\n",
    "train[\"title_unique_word_count\"] = train.title.apply(lambda x: len(set(x.split())))"
   ]
  },
  {
   "cell_type": "markdown",
   "metadata": {},
   "source": [
    "##### Number of repeated words in title"
   ]
  },
  {
   "cell_type": "code",
   "execution_count": 270,
   "metadata": {},
   "outputs": [],
   "source": [
    "train[\"title_num_repeated_words\"] = train.apply(lambda row: row.title_word_count - row.title_unique_word_count, axis = 1)\n",
    "test[\"title_num_repeated_words\"] = test.apply(lambda row: row.title_word_count - row.title_unique_word_count, axis = 1)"
   ]
  },
  {
   "cell_type": "markdown",
   "metadata": {},
   "source": [
    "## 2. Group Features"
   ]
  },
  {
   "cell_type": "code",
   "execution_count": 271,
   "metadata": {},
   "outputs": [],
   "source": [
    "# put all the data in one place\n",
    "df = pd.concat([train.drop(\"deal_probability\", axis = 1), test])"
   ]
  },
  {
   "cell_type": "markdown",
   "metadata": {},
   "source": [
    "#### Mean/median price inside a parent category"
   ]
  },
  {
   "cell_type": "code",
   "execution_count": 272,
   "metadata": {},
   "outputs": [],
   "source": [
    "parent_category_grouped = df.groupby(\"parent_category_name\")"
   ]
  },
  {
   "cell_type": "code",
   "execution_count": 273,
   "metadata": {},
   "outputs": [],
   "source": [
    "parent_category_grouped_price_metrics = parent_category_grouped[\"price\"].agg(\n",
    "    [(\"category_mean_price\", 'mean'), ('category_median_price', 'median')])"
   ]
  },
  {
   "cell_type": "code",
   "execution_count": 274,
   "metadata": {},
   "outputs": [],
   "source": [
    "train = pd.merge(train, parent_category_grouped_price_metrics, left_on = \"parent_category_name\", right_index=True)"
   ]
  },
  {
   "cell_type": "code",
   "execution_count": 275,
   "metadata": {},
   "outputs": [],
   "source": [
    "test = pd.merge(test, parent_category_grouped_price_metrics, left_on = \"parent_category_name\", right_index=True)"
   ]
  },
  {
   "cell_type": "markdown",
   "metadata": {},
   "source": [
    "##### Difference between price and mean/median price"
   ]
  },
  {
   "cell_type": "code",
   "execution_count": 276,
   "metadata": {},
   "outputs": [],
   "source": [
    "test[\"price_category_mean_diff\"] = test.apply(lambda row: row.price - row.category_mean_price, axis = 1)\n",
    "train[\"price_category_mean_diff\"] = train.apply(lambda row: row.price - row.category_mean_price, axis = 1)"
   ]
  },
  {
   "cell_type": "code",
   "execution_count": 277,
   "metadata": {},
   "outputs": [],
   "source": [
    "test[\"price_category_median_diff\"] = test.apply(lambda row: row.price - row.category_median_price, axis = 1)\n",
    "train[\"price_category_median_diff\"] = train.apply(lambda row: row.price - row.category_median_price, axis = 1)"
   ]
  },
  {
   "cell_type": "markdown",
   "metadata": {},
   "source": [
    "#### Median `image_top_1` in parent category group\n",
    "\n",
    "This is motivated by the relationship that I found between `image_top_1` and `parent_category_grouped`"
   ]
  },
  {
   "cell_type": "code",
   "execution_count": 278,
   "metadata": {},
   "outputs": [],
   "source": [
    "parent_category_grouped_median_image = parent_category_grouped[\"image_top_1\"].agg(\n",
    "[('category_median_image_top_1', 'median')])"
   ]
  },
  {
   "cell_type": "code",
   "execution_count": 279,
   "metadata": {},
   "outputs": [],
   "source": [
    "train = pd.merge(train, parent_category_grouped_median_image, left_on = \"parent_category_name\", right_index=True)"
   ]
  },
  {
   "cell_type": "code",
   "execution_count": 280,
   "metadata": {},
   "outputs": [],
   "source": [
    "test = pd.merge(test, parent_category_grouped_median_image, left_on = \"parent_category_name\", right_index=True)"
   ]
  },
  {
   "cell_type": "code",
   "execution_count": null,
   "metadata": {},
   "outputs": [],
   "source": []
  },
  {
   "cell_type": "code",
   "execution_count": 281,
   "metadata": {},
   "outputs": [
    {
     "data": {
      "text/html": [
       "<div>\n",
       "<style scoped>\n",
       "    .dataframe tbody tr th:only-of-type {\n",
       "        vertical-align: middle;\n",
       "    }\n",
       "\n",
       "    .dataframe tbody tr th {\n",
       "        vertical-align: top;\n",
       "    }\n",
       "\n",
       "    .dataframe thead th {\n",
       "        text-align: right;\n",
       "    }\n",
       "</style>\n",
       "<table border=\"1\" class=\"dataframe\">\n",
       "  <thead>\n",
       "    <tr style=\"text-align: right;\">\n",
       "      <th></th>\n",
       "      <th>parent_category_name</th>\n",
       "      <th>image_top_1</th>\n",
       "      <th>category_median_image_top_1</th>\n",
       "    </tr>\n",
       "  </thead>\n",
       "  <tbody>\n",
       "    <tr>\n",
       "      <th>0</th>\n",
       "      <td>Личные вещи</td>\n",
       "      <td>2020.0</td>\n",
       "      <td>432.0</td>\n",
       "    </tr>\n",
       "    <tr>\n",
       "      <th>4</th>\n",
       "      <td>Личные вещи</td>\n",
       "      <td>1002.0</td>\n",
       "      <td>432.0</td>\n",
       "    </tr>\n",
       "    <tr>\n",
       "      <th>9</th>\n",
       "      <td>Личные вещи</td>\n",
       "      <td>88.0</td>\n",
       "      <td>432.0</td>\n",
       "    </tr>\n",
       "    <tr>\n",
       "      <th>13</th>\n",
       "      <td>Личные вещи</td>\n",
       "      <td>658.0</td>\n",
       "      <td>432.0</td>\n",
       "    </tr>\n",
       "    <tr>\n",
       "      <th>17</th>\n",
       "      <td>Личные вещи</td>\n",
       "      <td>30.0</td>\n",
       "      <td>432.0</td>\n",
       "    </tr>\n",
       "  </tbody>\n",
       "</table>\n",
       "</div>"
      ],
      "text/plain": [
       "   parent_category_name  image_top_1  category_median_image_top_1\n",
       "0           Личные вещи       2020.0                        432.0\n",
       "4           Личные вещи       1002.0                        432.0\n",
       "9           Личные вещи         88.0                        432.0\n",
       "13          Личные вещи        658.0                        432.0\n",
       "17          Личные вещи         30.0                        432.0"
      ]
     },
     "execution_count": 281,
     "metadata": {},
     "output_type": "execute_result"
    }
   ],
   "source": [
    "test[['parent_category_name', 'image_top_1', \"category_median_image_top_1\"]].head()"
   ]
  },
  {
   "cell_type": "code",
   "execution_count": 282,
   "metadata": {
    "scrolled": true
   },
   "outputs": [],
   "source": [
    "train[\"image_top1_category_median_diff\"] = train.apply(lambda row: row.image_top_1 - row.category_median_image_top_1, axis = 1)\n",
    "test[\"image_top1_category_median_diff\"] = test.apply(lambda row: row.image_top_1 - row.category_median_image_top_1, axis = 1)"
   ]
  },
  {
   "cell_type": "markdown",
   "metadata": {},
   "source": [
    "## 3. Tf-Idf features"
   ]
  },
  {
   "cell_type": "markdown",
   "metadata": {},
   "source": [
    "###### Presence of high tf-idf words"
   ]
  },
  {
   "cell_type": "code",
   "execution_count": 283,
   "metadata": {},
   "outputs": [],
   "source": [
    "def get_prob_group(prob):\n",
    "    if prob == 0:\n",
    "        return \"zero\"\n",
    "    elif prob < .27:\n",
    "        return \"low\"\n",
    "    elif prob < .7:\n",
    "        return \"mid\"\n",
    "    elif prob < 1:\n",
    "        return \"high\"\n",
    "    else:\n",
    "        return \"certain\""
   ]
  },
  {
   "cell_type": "code",
   "execution_count": 284,
   "metadata": {},
   "outputs": [],
   "source": [
    "# bin the probabilities\n",
    "train['prob_group'] = train.deal_probability.map(lambda x: get_prob_group(x))"
   ]
  },
  {
   "cell_type": "markdown",
   "metadata": {},
   "source": [
    "Now, I'll put all the titles and descriptions in one place"
   ]
  },
  {
   "cell_type": "markdown",
   "metadata": {},
   "source": [
    "##### Bi-gram Tf-Idf title features"
   ]
  },
  {
   "cell_type": "code",
   "execution_count": 285,
   "metadata": {},
   "outputs": [],
   "source": [
    "# first, remove words with numbers\n",
    "tmp = train\n",
    "tmp.title = tmp.title.apply(lambda x: re.sub(r'\\w*\\d\\w*', '', x).strip())"
   ]
  },
  {
   "cell_type": "code",
   "execution_count": 286,
   "metadata": {},
   "outputs": [],
   "source": [
    "# gather the words simply based on the probability group they're in. \n",
    "prob_group_words = train.groupby('prob_group')['title'].apply(\n",
    "    lambda x: \" \".join(list(x))).reset_index()  "
   ]
  },
  {
   "cell_type": "code",
   "execution_count": 287,
   "metadata": {},
   "outputs": [],
   "source": [
    "prob_group_bigram_vect = TfidfVectorizer(stop_words=stops, ngram_range=(1,2))"
   ]
  },
  {
   "cell_type": "code",
   "execution_count": 288,
   "metadata": {},
   "outputs": [],
   "source": [
    "prob_group_bigram_tfidf = prob_group_bigram_vect.fit_transform(prob_group_words.title.values)"
   ]
  },
  {
   "cell_type": "code",
   "execution_count": 289,
   "metadata": {},
   "outputs": [],
   "source": [
    "reverse_vocab_prob_group_bigram = {k:v for v, k in prob_group_bigram_vect.vocabulary_.items()}"
   ]
  },
  {
   "cell_type": "markdown",
   "metadata": {},
   "source": [
    "Now, a function that takes in a tf-idf matrix, and returns a set of the top `n` tf-idf words from eachg group"
   ]
  },
  {
   "cell_type": "code",
   "execution_count": 290,
   "metadata": {},
   "outputs": [],
   "source": [
    "def build_top_set(tfidf_matrix, reverse_vocab, top = 3):\n",
    "    top_words = set()\n",
    "    for doc in range(tfidf_matrix.shape[0]):\n",
    "        top_indecies = np.asarray(tfidf_matrix[doc].todense()).argsort().reshape((-1,))[-top:]\n",
    "        for ind in top_indecies:\n",
    "            top_words.add(reverse_vocab[ind])\n",
    "    return top_words"
   ]
  },
  {
   "cell_type": "code",
   "execution_count": 291,
   "metadata": {},
   "outputs": [],
   "source": [
    "top_bigrams_probgroup = build_top_set(prob_group_bigram_tfidf, reverse_vocab_prob_group_bigram, top = 15)"
   ]
  },
  {
   "cell_type": "code",
   "execution_count": 292,
   "metadata": {
    "scrolled": true
   },
   "outputs": [
    {
     "data": {
      "text/plain": [
       "{'iphone',\n",
       " 'samsung',\n",
       " 'авто',\n",
       " 'аренда',\n",
       " 'аренду',\n",
       " 'ботинки',\n",
       " 'ваз',\n",
       " 'велосипед',\n",
       " 'газель',\n",
       " 'грузоперевозки',\n",
       " 'грузчики',\n",
       " 'диван',\n",
       " 'дом',\n",
       " 'дом м²',\n",
       " 'квартир',\n",
       " 'квартира',\n",
       " 'квартира м²',\n",
       " 'коляска',\n",
       " 'комбинезон',\n",
       " 'костюм',\n",
       " 'куртка',\n",
       " 'м²',\n",
       " 'м² участке',\n",
       " 'м² эт',\n",
       " 'мастер',\n",
       " 'наращивание',\n",
       " 'новые',\n",
       " 'пальто',\n",
       " 'платье',\n",
       " 'продам',\n",
       " 'работы',\n",
       " 'ремонт',\n",
       " 'репетитор',\n",
       " 'сапоги',\n",
       " 'сот',\n",
       " 'строительство',\n",
       " 'туфли',\n",
       " 'услуги',\n",
       " 'установка',\n",
       " 'участке',\n",
       " 'участке сот',\n",
       " 'участок',\n",
       " 'участок сот',\n",
       " 'эт',\n",
       " 'эт квартира'}"
      ]
     },
     "execution_count": 292,
     "metadata": {},
     "output_type": "execute_result"
    }
   ],
   "source": [
    "top_bigrams_probgroup"
   ]
  },
  {
   "cell_type": "code",
   "execution_count": 297,
   "metadata": {},
   "outputs": [],
   "source": [
    "# annoying leftover stopwords\n",
    "top_bigrams_probgroup.remove(\"эт\")\n",
    "top_bigrams_probgroup.remove(\"сот\")"
   ]
  },
  {
   "cell_type": "code",
   "execution_count": 294,
   "metadata": {},
   "outputs": [],
   "source": [
    "def add_title_token_cols(df, tokens):\n",
    "    for token in tokens:\n",
    "        colname = \"contains_\" + token.replace(\" \", \"_\")\n",
    "        df[colname] = df.title.apply(lambda x: token in x.lower())\n",
    "    return df"
   ]
  },
  {
   "cell_type": "code",
   "execution_count": 295,
   "metadata": {},
   "outputs": [],
   "source": [
    "train = add_title_token_cols(train, top_bigrams_probgroup)\n",
    "test = add_title_token_cols(test, top_bigrams_probgroup)"
   ]
  },
  {
   "cell_type": "markdown",
   "metadata": {},
   "source": [
    "##### Projected dimensionality of Tf-Idf vectors\n",
    "\n",
    "Credits to Sadalairaj Kumar in his [great EDA kernel](https://www.kaggle.com/sudalairajkumar/simple-exploration-baseline-notebook-avito/code) for this idea."
   ]
  },
  {
   "cell_type": "code",
   "execution_count": 298,
   "metadata": {},
   "outputs": [
    {
     "data": {
      "text/plain": [
       "TfidfVectorizer(analyzer='word', binary=False, decode_error='strict',\n",
       "        dtype=<class 'numpy.int64'>, encoding='utf-8', input='content',\n",
       "        lowercase=True, max_df=1.0, max_features=None, min_df=1,\n",
       "        ngram_range=(1, 2), norm='l2', preprocessor=None, smooth_idf=True,\n",
       "        stop_words={'у', 'какая', 'конечно', 'моя', 'на', 'теперь', 'со', 'надо', 'нее', 'она', 'только', 'их', 'я', 'при', 'чем', 'лучше', 'так', 'никогда', 'вот', 'здесь', 'совсем', 'нет', 'от', 'ни', 'но', 'два', 'как', 'об', 'чтоб', 'для', 'него', 'ты', 'хорошо', 'мне', 'мы', 'меня', 'разве', 'всех', 'л...ь', 'если', 'он', 'ее', 'же', 'из', 'будет', 'когда', 'них', 'с', 'в', 'быть', 'уже', 'раз', 'ведь'},\n",
       "        strip_accents=None, sublinear_tf=False,\n",
       "        token_pattern='(?u)\\\\b\\\\w\\\\w+\\\\b', tokenizer=None, use_idf=True,\n",
       "        vocabulary=None)"
      ]
     },
     "execution_count": 298,
     "metadata": {},
     "output_type": "execute_result"
    }
   ],
   "source": [
    "# tf-idf tokenizer for the titles from previous section (unigrams and bigrams)\n",
    "prob_group_bigram_vect"
   ]
  },
  {
   "cell_type": "code",
   "execution_count": 299,
   "metadata": {},
   "outputs": [],
   "source": [
    "# get a tf-idf embedding of the entire dataset (train + test) for the titles\n",
    "full_title_tfidf = prob_group_bigram_vect.transform(df.title)"
   ]
  },
  {
   "cell_type": "code",
   "execution_count": 219,
   "metadata": {},
   "outputs": [
    {
     "data": {
      "text/plain": [
       "<1895586x1513267 sparse matrix of type '<class 'numpy.float64'>'\n",
       "\twith 7340502 stored elements in Compressed Sparse Row format>"
      ]
     },
     "execution_count": 219,
     "metadata": {},
     "output_type": "execute_result"
    }
   ],
   "source": [
    "full_title_tfidf #sparse matrix"
   ]
  },
  {
   "cell_type": "code",
   "execution_count": 300,
   "metadata": {},
   "outputs": [
    {
     "data": {
      "text/plain": [
       "TruncatedSVD(algorithm='arpack', n_components=5, n_iter=5, random_state=None,\n",
       "       tol=0.0)"
      ]
     },
     "execution_count": 300,
     "metadata": {},
     "output_type": "execute_result"
    }
   ],
   "source": [
    "# fit a Singular Value Decomposition projection onto this tf-idf matrix\n",
    "title_svd = TruncatedSVD(n_components=5, algorithm='arpack')\n",
    "title_svd.fit(full_title_tfidf)"
   ]
  },
  {
   "cell_type": "code",
   "execution_count": 320,
   "metadata": {},
   "outputs": [],
   "source": [
    "train_svd = pd.DataFrame(title_svd.transform(prob_group_bigram_vect.transform(train.title)), index = train.index)\n",
    "test_svd = pd.DataFrame(title_svd.transform(prob_group_bigram_vect.transform(test.title)), index = test.index)"
   ]
  },
  {
   "cell_type": "code",
   "execution_count": 321,
   "metadata": {},
   "outputs": [],
   "source": [
    "train_svd.columns = ['svd_title_'+str(i+1) for i in range(5)]\n",
    "test_svd.columns = ['svd_title_'+str(i+1) for i in range(5)]"
   ]
  },
  {
   "cell_type": "code",
   "execution_count": 328,
   "metadata": {},
   "outputs": [],
   "source": [
    "train = pd.concat([train, train_svd], axis=1)\n",
    "test = pd.concat([test, test_svd], axis=1)"
   ]
  },
  {
   "cell_type": "code",
   "execution_count": 351,
   "metadata": {},
   "outputs": [],
   "source": [
    "del full_title_tfidf, train_svd, test_svd"
   ]
  },
  {
   "cell_type": "markdown",
   "metadata": {},
   "source": [
    "## 4. Integer encoding categorical variables"
   ]
  },
  {
   "cell_type": "markdown",
   "metadata": {},
   "source": [
    "#### Parent category"
   ]
  },
  {
   "cell_type": "code",
   "execution_count": 332,
   "metadata": {},
   "outputs": [],
   "source": [
    "parent_category_enc = LabelEncoder()"
   ]
  },
  {
   "cell_type": "code",
   "execution_count": 333,
   "metadata": {},
   "outputs": [
    {
     "name": "stderr",
     "output_type": "stream",
     "text": [
      "/usr/local/lib/python3.6/site-packages/sklearn/preprocessing/label.py:95: DataConversionWarning: A column-vector y was passed when a 1d array was expected. Please change the shape of y to (n_samples, ), for example using ravel().\n",
      "  y = column_or_1d(y, warn=True)\n"
     ]
    },
    {
     "data": {
      "text/plain": [
       "LabelEncoder()"
      ]
     },
     "execution_count": 333,
     "metadata": {},
     "output_type": "execute_result"
    }
   ],
   "source": [
    "parent_category_enc.fit(np.append(train['parent_category_name'],test['parent_category_name']).reshape(-1,1))"
   ]
  },
  {
   "cell_type": "code",
   "execution_count": 334,
   "metadata": {},
   "outputs": [],
   "source": [
    "train['parent_category_int'] = parent_category_enc.transform(train.parent_category_name)\n",
    "test['parent_category_int'] = parent_category_enc.transform(test.parent_category_name)"
   ]
  },
  {
   "cell_type": "markdown",
   "metadata": {},
   "source": [
    "###### User type"
   ]
  },
  {
   "cell_type": "code",
   "execution_count": 335,
   "metadata": {},
   "outputs": [],
   "source": [
    "user_type_enc = LabelEncoder()"
   ]
  },
  {
   "cell_type": "code",
   "execution_count": 336,
   "metadata": {},
   "outputs": [
    {
     "data": {
      "text/plain": [
       "LabelEncoder()"
      ]
     },
     "execution_count": 336,
     "metadata": {},
     "output_type": "execute_result"
    }
   ],
   "source": [
    "user_type_enc.fit(np.append(test.user_type, train.user_type))"
   ]
  },
  {
   "cell_type": "code",
   "execution_count": 337,
   "metadata": {},
   "outputs": [],
   "source": [
    "train['user_type_int'] = user_type_enc.transform(train.user_type)\n",
    "test['user_type_int'] = user_type_enc.transform(test.user_type)"
   ]
  },
  {
   "cell_type": "markdown",
   "metadata": {},
   "source": [
    "##### Region"
   ]
  },
  {
   "cell_type": "code",
   "execution_count": 338,
   "metadata": {},
   "outputs": [],
   "source": [
    "region_enc = LabelEncoder()"
   ]
  },
  {
   "cell_type": "code",
   "execution_count": 339,
   "metadata": {},
   "outputs": [
    {
     "data": {
      "text/plain": [
       "LabelEncoder()"
      ]
     },
     "execution_count": 339,
     "metadata": {},
     "output_type": "execute_result"
    }
   ],
   "source": [
    "region_enc.fit(np.append(train.region, test.region))"
   ]
  },
  {
   "cell_type": "code",
   "execution_count": 340,
   "metadata": {},
   "outputs": [],
   "source": [
    "train['region_int'] = region_enc.transform(train.region)\n",
    "test['region_int'] = region_enc.transform(test.region)"
   ]
  },
  {
   "cell_type": "markdown",
   "metadata": {},
   "source": [
    "##### City"
   ]
  },
  {
   "cell_type": "code",
   "execution_count": 341,
   "metadata": {},
   "outputs": [],
   "source": [
    "city_enc = LabelEncoder()"
   ]
  },
  {
   "cell_type": "code",
   "execution_count": 342,
   "metadata": {},
   "outputs": [
    {
     "data": {
      "text/plain": [
       "LabelEncoder()"
      ]
     },
     "execution_count": 342,
     "metadata": {},
     "output_type": "execute_result"
    }
   ],
   "source": [
    "city_enc.fit(np.append(train.city, test.city))"
   ]
  },
  {
   "cell_type": "code",
   "execution_count": 343,
   "metadata": {},
   "outputs": [],
   "source": [
    "train['city_int'] = city_enc.transform(train.city)\n",
    "test['city_int'] = city_enc.transform(test.city)"
   ]
  },
  {
   "cell_type": "markdown",
   "metadata": {},
   "source": [
    "##### weekday"
   ]
  },
  {
   "cell_type": "code",
   "execution_count": 411,
   "metadata": {},
   "outputs": [],
   "source": [
    "train[\"weekday_int\"] = pd.to_datetime(train.activation_date).dt.weekday\n",
    "test[\"weekday_int\"] = pd.to_datetime(test.activation_date).dt.weekday"
   ]
  },
  {
   "cell_type": "markdown",
   "metadata": {},
   "source": [
    "## 5. Fill missing values"
   ]
  },
  {
   "cell_type": "code",
   "execution_count": 413,
   "metadata": {},
   "outputs": [
    {
     "name": "stdout",
     "output_type": "stream",
     "text": [
      "item_id                                 0\n",
      "user_id                                 0\n",
      "region                                  0\n",
      "city                                    0\n",
      "parent_category_name                    0\n",
      "category_name                           0\n",
      "param_1                             58117\n",
      "param_2                            605372\n",
      "param_3                            803213\n",
      "title                                   0\n",
      "description                             0\n",
      "price                                   0\n",
      "item_seq_number                         0\n",
      "activation_date                         0\n",
      "user_type                               0\n",
      "image                              109325\n",
      "image_top_1                             0\n",
      "deal_probability                        0\n",
      "days_since_previous_appearence          0\n",
      "days_since_previous_appearence2         0\n",
      "avg_appearences_per_day_prev            0\n",
      "daily_ad_number                         0\n",
      "daily_ad_number_category                0\n",
      "city_frequency                          0\n",
      "title_word_count                        0\n",
      "title_character_count                   0\n",
      "description_word_count_log              0\n",
      "description_character_count_log         0\n",
      "description_missing                     0\n",
      "price_mising                            0\n",
      "image_missing                           0\n",
      "param_1_missing                         0\n",
      "param_2_missing                         0\n",
      "param_3_missing                         0\n",
      "param_1_freq                            0\n",
      "param_2_freq                            0\n",
      "param_3_freq                            0\n",
      "num_nonalphanum_title                   0\n",
      "prop_nonalphanum_title                  0\n",
      "num_nonalphanum_desc                    0\n",
      "prop_nonalphanum_desc                   0\n",
      "num_numeric_title                       0\n",
      "prop_numeric_title                      0\n",
      "num_numeric_desc                        0\n",
      "prop_numeric_desc                       0\n",
      "title_unique_word_count                 0\n",
      "title_num_repeated_words                0\n",
      "category_mean_price                     0\n",
      "category_median_price                   0\n",
      "price_category_mean_diff                0\n",
      "price_category_median_diff              0\n",
      "category_median_image_top_1             0\n",
      "image_top1_category_median_diff         0\n",
      "prob_group                              0\n",
      "contains_коляска                        0\n",
      "contains_велосипед                      0\n",
      "contains_комбинезон                     0\n",
      "contains_услуги                         0\n",
      "contains_костюм                         0\n",
      "contains_ботинки                        0\n",
      "contains_наращивание                    0\n",
      "contains_м²_эт                          0\n",
      "contains_участок                        0\n",
      "contains_участке                        0\n",
      "contains_аренда                         0\n",
      "contains_квартира                       0\n",
      "contains_дом                            0\n",
      "contains_авто                           0\n",
      "contains_новые                          0\n",
      "contains_продам                         0\n",
      "contains_платье                         0\n",
      "contains_грузоперевозки                 0\n",
      "contains_м²_участке                     0\n",
      "contains_сапоги                         0\n",
      "contains_м²                             0\n",
      "contains_аренду                         0\n",
      "contains_ремонт                         0\n",
      "contains_куртка                         0\n",
      "contains_туфли                          0\n",
      "contains_репетитор                      0\n",
      "contains_диван                          0\n",
      "contains_дом_м²                         0\n",
      "contains_квартира_м²                    0\n",
      "contains_газель                         0\n",
      "contains_мастер                         0\n",
      "contains_участок_сот                    0\n",
      "contains_пальто                         0\n",
      "contains_квартир                        0\n",
      "contains_участке_сот                    0\n",
      "contains_эт_квартира                    0\n",
      "contains_iphone                         0\n",
      "contains_ваз                            0\n",
      "contains_грузчики                       0\n",
      "contains_работы                         0\n",
      "contains_строительство                  0\n",
      "contains_samsung                        0\n",
      "contains_установка                      0\n",
      "svd_title_1                             0\n",
      "svd_title_2                             0\n",
      "svd_title_3                             0\n",
      "svd_title_4                             0\n",
      "svd_title_5                             0\n",
      "parent_category_int                     0\n",
      "user_type_int                           0\n",
      "region_int                              0\n",
      "city_int                                0\n",
      "weekday_int                             0\n",
      "dtype: int64\n"
     ]
    }
   ],
   "source": [
    "with pd.option_context('display.max_rows', None, 'display.max_columns', 3):\n",
    "    print(train.isnull().sum(axis=0))"
   ]
  },
  {
   "cell_type": "code",
   "execution_count": 358,
   "metadata": {},
   "outputs": [
    {
     "name": "stdout",
     "output_type": "stream",
     "text": [
      "item_id                                 0\n",
      "user_id                                 0\n",
      "region                                  0\n",
      "city                                    0\n",
      "parent_category_name                    0\n",
      "category_name                           0\n",
      "param_1                             22910\n",
      "param_2                            233229\n",
      "param_3                            306331\n",
      "title                                   0\n",
      "description                             0\n",
      "price                               30585\n",
      "item_seq_number                         0\n",
      "activation_date                         0\n",
      "user_type                               0\n",
      "image                               42609\n",
      "image_top_1                         42609\n",
      "days_since_previous_appearence     306069\n",
      "days_since_previous_appearence2    381306\n",
      "avg_appearences_per_day_prev       466272\n",
      "daily_ad_number                         0\n",
      "daily_ad_number_category                0\n",
      "city_frequency                          0\n",
      "title_word_count                        0\n",
      "title_character_count                   0\n",
      "description_word_count_log              0\n",
      "description_character_count_log         0\n",
      "description_missing                     0\n",
      "price_mising                            0\n",
      "image_missing                           0\n",
      "param_1_missing                         0\n",
      "param_2_missing                         0\n",
      "param_3_missing                         0\n",
      "param_1_freq                            0\n",
      "param_2_freq                            0\n",
      "param_3_freq                            0\n",
      "num_nonalphanum_title                   0\n",
      "prop_nonalphanum_title                  0\n",
      "num_nonalphanum_desc                    0\n",
      "prop_nonalphanum_desc                   0\n",
      "num_numeric_title                       0\n",
      "prop_numeric_title                      0\n",
      "num_numeric_desc                        0\n",
      "prop_numeric_desc                       0\n",
      "title_unique_word_count                 0\n",
      "title_num_repeated_words                0\n",
      "category_mean_price                     0\n",
      "category_median_price                   0\n",
      "price_category_mean_diff            30585\n",
      "price_category_median_diff          30585\n",
      "category_median_image_top_1             0\n",
      "image_top1_category_median_diff     42609\n",
      "contains_коляска                        0\n",
      "contains_велосипед                      0\n",
      "contains_комбинезон                     0\n",
      "contains_услуги                         0\n",
      "contains_костюм                         0\n",
      "contains_ботинки                        0\n",
      "contains_наращивание                    0\n",
      "contains_м²_эт                          0\n",
      "contains_участок                        0\n",
      "contains_участке                        0\n",
      "contains_аренда                         0\n",
      "contains_квартира                       0\n",
      "contains_дом                            0\n",
      "contains_авто                           0\n",
      "contains_новые                          0\n",
      "contains_продам                         0\n",
      "contains_платье                         0\n",
      "contains_грузоперевозки                 0\n",
      "contains_м²_участке                     0\n",
      "contains_сапоги                         0\n",
      "contains_м²                             0\n",
      "contains_аренду                         0\n",
      "contains_ремонт                         0\n",
      "contains_куртка                         0\n",
      "contains_туфли                          0\n",
      "contains_репетитор                      0\n",
      "contains_диван                          0\n",
      "contains_дом_м²                         0\n",
      "contains_квартира_м²                    0\n",
      "contains_газель                         0\n",
      "contains_мастер                         0\n",
      "contains_участок_сот                    0\n",
      "contains_пальто                         0\n",
      "contains_квартир                        0\n",
      "contains_участке_сот                    0\n",
      "contains_эт_квартира                    0\n",
      "contains_iphone                         0\n",
      "contains_ваз                            0\n",
      "contains_грузчики                       0\n",
      "contains_работы                         0\n",
      "contains_строительство                  0\n",
      "contains_samsung                        0\n",
      "contains_установка                      0\n",
      "svd_title_1                             0\n",
      "svd_title_2                             0\n",
      "svd_title_3                             0\n",
      "svd_title_4                             0\n",
      "svd_title_5                             0\n",
      "parent_category_int                     0\n",
      "user_type_int                           0\n",
      "region_int                              0\n",
      "city_int                                0\n",
      "dtype: int64\n"
     ]
    }
   ],
   "source": [
    "with pd.option_context('display.max_rows', None, 'display.max_columns', 3):\n",
    "    print(test.isnull().sum(axis=0))"
   ]
  },
  {
   "cell_type": "markdown",
   "metadata": {},
   "source": [
    "##### Price"
   ]
  },
  {
   "cell_type": "code",
   "execution_count": 361,
   "metadata": {},
   "outputs": [],
   "source": [
    "train[\"price\"] = train.price.fillna(-999)\n",
    "test[\"price\"] = test.price.fillna(-999)"
   ]
  },
  {
   "cell_type": "markdown",
   "metadata": {},
   "source": [
    "##### `image_top_1`"
   ]
  },
  {
   "cell_type": "code",
   "execution_count": 377,
   "metadata": {},
   "outputs": [],
   "source": [
    "fillvalue = np.max(df.image_top_1) + 1"
   ]
  },
  {
   "cell_type": "code",
   "execution_count": 380,
   "metadata": {},
   "outputs": [],
   "source": [
    "train['image_top_1'] = train.image_top_1.fillna(fillvalue)\n",
    "test['image_top_1'] = test.image_top_1.fillna(fillvalue)"
   ]
  },
  {
   "cell_type": "markdown",
   "metadata": {},
   "source": [
    "###### days_since_previous_appearence and days_since_previous_appearence2"
   ]
  },
  {
   "cell_type": "code",
   "execution_count": 382,
   "metadata": {},
   "outputs": [],
   "source": [
    "train['days_since_previous_appearence'] = train.days_since_previous_appearence.fillna(-999)\n",
    "train['days_since_previous_appearence2'] = train.days_since_previous_appearence2.fillna(-999)\n",
    "test['days_since_previous_appearence'] = test.days_since_previous_appearence.fillna(-999)\n",
    "test['days_since_previous_appearence2'] = test.days_since_previous_appearence2.fillna(-999)"
   ]
  },
  {
   "cell_type": "markdown",
   "metadata": {},
   "source": [
    "###### avg_appearences_per_day_prev"
   ]
  },
  {
   "cell_type": "code",
   "execution_count": 384,
   "metadata": {},
   "outputs": [],
   "source": [
    "train[\"avg_appearences_per_day_prev\"] = train.avg_appearences_per_day_prev.fillna(-999)\n",
    "test[\"avg_appearences_per_day_prev\"] = test.avg_appearences_per_day_prev.fillna(-999)"
   ]
  },
  {
   "cell_type": "code",
   "execution_count": 386,
   "metadata": {},
   "outputs": [
    {
     "data": {
      "text/plain": [
       "<matplotlib.axes._subplots.AxesSubplot at 0x248608588>"
      ]
     },
     "execution_count": 386,
     "metadata": {},
     "output_type": "execute_result"
    },
    {
     "data": {
      "image/png": "[encoded data removed]",
      "text/plain": [
       "<Figure size 432x288 with 1 Axes>"
      ]
     },
     "metadata": {},
     "output_type": "display_data"
    }
   ],
   "source": [
    "train.price_category_mean_diff.hist()"
   ]
  },
  {
   "cell_type": "markdown",
   "metadata": {},
   "source": [
    "##### `price_category_mean_diff` and `price_category_median_diff`"
   ]
  },
  {
   "cell_type": "code",
   "execution_count": 389,
   "metadata": {},
   "outputs": [],
   "source": [
    "train[\"price_category_mean_diff\"] = train.price_category_mean_diff.fillna(-999)\n",
    "test[\"price_category_mean_diff\"] = test.price_category_mean_diff.fillna(-999)"
   ]
  },
  {
   "cell_type": "code",
   "execution_count": 391,
   "metadata": {},
   "outputs": [],
   "source": [
    "train[\"price_category_median_diff\"] = train.price_category_median_diff.fillna(-999)\n",
    "test[\"price_category_median_diff\"] = test.price_category_median_diff.fillna(-999)"
   ]
  },
  {
   "cell_type": "markdown",
   "metadata": {},
   "source": [
    "##### `image_top1_category_median_diff`"
   ]
  },
  {
   "cell_type": "code",
   "execution_count": 398,
   "metadata": {},
   "outputs": [],
   "source": [
    "train[\"image_top1_category_median_diff\"] = train.image_top1_category_median_diff.fillna(-10000)\n",
    "test[\"image_top1_category_median_diff\"] = test.image_top1_category_median_diff.fillna(-10000)"
   ]
  },
  {
   "cell_type": "markdown",
   "metadata": {},
   "source": [
    "## 6. Save data\n",
    "\n",
    "First, isolating the colums that will make up the training data"
   ]
  },
  {
   "cell_type": "code",
   "execution_count": 414,
   "metadata": {
    "scrolled": true
   },
   "outputs": [
    {
     "data": {
      "text/plain": [
       "['item_id',\n",
       " 'user_id',\n",
       " 'region',\n",
       " 'city',\n",
       " 'parent_category_name',\n",
       " 'category_name',\n",
       " 'param_1',\n",
       " 'param_2',\n",
       " 'param_3',\n",
       " 'title',\n",
       " 'description',\n",
       " 'price',\n",
       " 'item_seq_number',\n",
       " 'activation_date',\n",
       " 'user_type',\n",
       " 'image',\n",
       " 'image_top_1',\n",
       " 'deal_probability',\n",
       " 'days_since_previous_appearence',\n",
       " 'days_since_previous_appearence2',\n",
       " 'avg_appearences_per_day_prev',\n",
       " 'daily_ad_number',\n",
       " 'daily_ad_number_category',\n",
       " 'city_frequency',\n",
       " 'title_word_count',\n",
       " 'title_character_count',\n",
       " 'description_word_count_log',\n",
       " 'description_character_count_log',\n",
       " 'description_missing',\n",
       " 'price_mising',\n",
       " 'image_missing',\n",
       " 'param_1_missing',\n",
       " 'param_2_missing',\n",
       " 'param_3_missing',\n",
       " 'param_1_freq',\n",
       " 'param_2_freq',\n",
       " 'param_3_freq',\n",
       " 'num_nonalphanum_title',\n",
       " 'prop_nonalphanum_title',\n",
       " 'num_nonalphanum_desc',\n",
       " 'prop_nonalphanum_desc',\n",
       " 'num_numeric_title',\n",
       " 'prop_numeric_title',\n",
       " 'num_numeric_desc',\n",
       " 'prop_numeric_desc',\n",
       " 'title_unique_word_count',\n",
       " 'title_num_repeated_words',\n",
       " 'category_mean_price',\n",
       " 'category_median_price',\n",
       " 'price_category_mean_diff',\n",
       " 'price_category_median_diff',\n",
       " 'category_median_image_top_1',\n",
       " 'image_top1_category_median_diff',\n",
       " 'prob_group',\n",
       " 'contains_коляска',\n",
       " 'contains_велосипед',\n",
       " 'contains_комбинезон',\n",
       " 'contains_услуги',\n",
       " 'contains_костюм',\n",
       " 'contains_ботинки',\n",
       " 'contains_наращивание',\n",
       " 'contains_м²_эт',\n",
       " 'contains_участок',\n",
       " 'contains_участке',\n",
       " 'contains_аренда',\n",
       " 'contains_квартира',\n",
       " 'contains_дом',\n",
       " 'contains_авто',\n",
       " 'contains_новые',\n",
       " 'contains_продам',\n",
       " 'contains_платье',\n",
       " 'contains_грузоперевозки',\n",
       " 'contains_м²_участке',\n",
       " 'contains_сапоги',\n",
       " 'contains_м²',\n",
       " 'contains_аренду',\n",
       " 'contains_ремонт',\n",
       " 'contains_куртка',\n",
       " 'contains_туфли',\n",
       " 'contains_репетитор',\n",
       " 'contains_диван',\n",
       " 'contains_дом_м²',\n",
       " 'contains_квартира_м²',\n",
       " 'contains_газель',\n",
       " 'contains_мастер',\n",
       " 'contains_участок_сот',\n",
       " 'contains_пальто',\n",
       " 'contains_квартир',\n",
       " 'contains_участке_сот',\n",
       " 'contains_эт_квартира',\n",
       " 'contains_iphone',\n",
       " 'contains_ваз',\n",
       " 'contains_грузчики',\n",
       " 'contains_работы',\n",
       " 'contains_строительство',\n",
       " 'contains_samsung',\n",
       " 'contains_установка',\n",
       " 'svd_title_1',\n",
       " 'svd_title_2',\n",
       " 'svd_title_3',\n",
       " 'svd_title_4',\n",
       " 'svd_title_5',\n",
       " 'parent_category_int',\n",
       " 'user_type_int',\n",
       " 'region_int',\n",
       " 'city_int',\n",
       " 'weekday_int']"
      ]
     },
     "execution_count": 414,
     "metadata": {},
     "output_type": "execute_result"
    }
   ],
   "source": [
    "list(train.columns)"
   ]
  },
  {
   "cell_type": "code",
   "execution_count": 420,
   "metadata": {},
   "outputs": [],
   "source": [
    "traincols = set(train.columns)\n",
    "for col in [\n",
    "    'item_id',\n",
    "    'user_id',\n",
    "    'region',\n",
    "    'city',\n",
    "    'parent_category_name',\n",
    "    'category_name',\n",
    "    'param_1',\n",
    "    'param_2',\n",
    "    'param_3',\n",
    "    'title',\n",
    "    'description', \n",
    "    'activation_date', \n",
    "    'user_type', \n",
    "    'image', \n",
    "    'deal_probability', \n",
    "    'category_mean_price', \n",
    "    'category_median_price', \n",
    "    'category_median_image_top_1',\n",
    "    'prob_group',\n",
    "    ]:\n",
    "    traincols.remove(col)"
   ]
  },
  {
   "cell_type": "code",
   "execution_count": 423,
   "metadata": {},
   "outputs": [],
   "source": [
    "mkdir ../data/second_features"
   ]
  },
  {
   "cell_type": "code",
   "execution_count": 424,
   "metadata": {},
   "outputs": [],
   "source": [
    "with open(\"../data/second_features/colnames.pkl\", \"wb\") as handle:\n",
    "    pickle.dump(traincols,handle)"
   ]
  },
  {
   "cell_type": "code",
   "execution_count": 425,
   "metadata": {},
   "outputs": [
    {
     "name": "stdout",
     "output_type": "stream",
     "text": [
      "CPU times: user 9 µs, sys: 11 µs, total: 20 µs\n",
      "Wall time: 57.9 µs\n"
     ]
    }
   ],
   "source": [
    "train.to_csv(\"../data/second_features/train.csv\")\n",
    "test.to_csv(\"../data/second_features/test.csv\")"
   ]
  },
  {
   "cell_type": "code",
   "execution_count": 443,
   "metadata": {},
   "outputs": [],
   "source": [
    "with open(\"../data/second_features/y.npy\", \"wb\") as handle:\n",
    "    np.save(handle, train.deal_probability.values)"
   ]
  }
 ],
 "metadata": {
  "kernelspec": {
   "display_name": "Python 3",
   "language": "python",
   "name": "python3"
  },
  "language_info": {
   "codemirror_mode": {
    "name": "ipython",
    "version": 3
   },
   "file_extension": ".py",
   "mimetype": "text/x-python",
   "name": "python",
   "nbconvert_exporter": "python",
   "pygments_lexer": "ipython3",
   "version": "3.6.4"
  }
 },
 "nbformat": 4,
 "nbformat_minor": 2
}
